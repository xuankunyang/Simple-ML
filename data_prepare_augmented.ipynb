{
 "cells": [
  {
   "cell_type": "code",
   "execution_count": 1,
   "id": "333859bd",
   "metadata": {},
   "outputs": [],
   "source": [
    "import pandas as pd\n",
    "import numpy as np\n",
    "from sklearn.model_selection import TimeSeriesSplit, GridSearchCV\n",
    "from sklearn.preprocessing import StandardScaler, OneHotEncoder, OrdinalEncoder\n",
    "from sklearn.impute import SimpleImputer"
   ]
  },
  {
   "cell_type": "code",
   "execution_count": 2,
   "id": "8d41d429",
   "metadata": {},
   "outputs": [],
   "source": [
    "years = ['2015', '2016', '2017', '2018', '2019']\n",
    "data_frames = []\n",
    "for year in years:\n",
    "    df = pd.read_excel(f'TripDataset/Dataset/{year}.xlsx')  # Replace with actual file names\n",
    "    df['Year'] = year  # Add year column for temporal tracking\n",
    "    data_frames.append(df)\n",
    "\n",
    "dt = pd.concat(data_frames, ignore_index=True)\n",
    "dt = dt.sort_values(by='Year')"
   ]
  },
  {
   "cell_type": "code",
   "execution_count": 3,
   "id": "19065248",
   "metadata": {},
   "outputs": [],
   "source": [
    "data = dt"
   ]
  },
  {
   "cell_type": "code",
   "execution_count": 4,
   "id": "47a5f91b",
   "metadata": {},
   "outputs": [],
   "source": [
    "# 参数定义\n",
    "missing_threshold = 0.2  # 缺省值比例阈值\n",
    "outlier_std_threshold = 3  # 离群值的标准差倍数"
   ]
  },
  {
   "cell_type": "code",
   "execution_count": 5,
   "id": "861ceb5d",
   "metadata": {},
   "outputs": [
    {
     "name": "stdout",
     "output_type": "stream",
     "text": [
      "0.0\n",
      "0.004366450186541385\n"
     ]
    }
   ],
   "source": [
    "# 计算缺省值比例，删除超过阈值的列\n",
    "missing_ratios = data.isnull().mean()\n",
    "print(missing_ratios['Purpose of visit to CITY'])\n",
    "print(missing_ratios['Number of nights in CITY'])"
   ]
  },
  {
   "cell_type": "code",
   "execution_count": 6,
   "id": "48ece3d6",
   "metadata": {},
   "outputs": [],
   "source": [
    "cols_to_drop = missing_ratios[missing_ratios > missing_threshold].index\n",
    "data = data.drop(columns=cols_to_drop)"
   ]
  },
  {
   "cell_type": "code",
   "execution_count": 7,
   "id": "7e61ec81",
   "metadata": {},
   "outputs": [],
   "source": [
    "# 定义数值和类别列等\n",
    "numerical_cols = ['Age', 'Number of nights in CITY', 'Number of visits to CITY', 'Tour price', 'Airfare', \n",
    "                  'Total expenditures', 'Accommodation expenses', 'Food and drink expenses', \n",
    "                  'Transportation expenses in CITY', 'Entertainment expenses', 'Shopping expenses', \n",
    "                  'Other expenditures', 'Purpose of visit to CITY']\n",
    "numerical_cols_without_target = ['Age', 'Number of visits to CITY', 'Tour price', 'Airfare', \n",
    "                  'Total expenditures', 'Accommodation expenses', 'Food and drink expenses', \n",
    "                  'Transportation expenses in CITY', 'Entertainment expenses', 'Shopping expenses', \n",
    "                  'Other expenditures']\n",
    "true_categorical_cols = ['Nationality', 'Country of residence', 'Gender', 'Immigration airport', \n",
    "                         'Travel type', 'Having mileage or not', 'Intention to revisit CITY', \n",
    "                         'Most desired place', 'Most satisfied place']\n",
    "ordinal_cols = ['Satisfaction level', 'Intention to revisit CITY', 'Satisfaction level by item 01', \n",
    "                'Satisfaction level by item 02', 'Satisfaction level by item 03', 'Satisfaction level by item 04', \n",
    "                'Satisfaction level by item 05', 'Satisfaction level by item 06', 'Satisfaction level by item 07', \n",
    "                'Satisfaction level by item 08', 'Satisfaction level by item 09', 'Satisfaction level by item 10', \n",
    "                'Satisfaction level by item 11']"
   ]
  },
  {
   "cell_type": "code",
   "execution_count": 8,
   "id": "6a21f04a",
   "metadata": {},
   "outputs": [],
   "source": [
    "# 获取data中的实际列名\n",
    "existing_columns = data.columns\n",
    "\n",
    "# 筛选出在data中的数值列和类别列\n",
    "numerical_cols = [col for col in numerical_cols if col in existing_columns]\n",
    "numerical_cols_without_target = [col for col in numerical_cols_without_target if col in existing_columns]\n",
    "true_categorical_cols = [col for col in true_categorical_cols if col in existing_columns]\n",
    "ordinal_cols = [col for col in ordinal_cols if col in existing_columns]"
   ]
  },
  {
   "cell_type": "code",
   "execution_count": 9,
   "id": "c96a2bf2",
   "metadata": {},
   "outputs": [],
   "source": [
    "# 检查并删除数值特征中的离群值样本\n",
    "# numerical_cols = [col for col in data.columns if pd.api.types.is_numeric_dtype(data[col])]\n",
    "\n",
    "for col in numerical_cols_without_target:\n",
    "    if col not in data.columns:\n",
    "        continue\n",
    "    mean = data[col].mean()\n",
    "    std = data[col].std()\n",
    "    lower_bound = mean - outlier_std_threshold * std\n",
    "    upper_bound = mean + outlier_std_threshold * std\n",
    "    data = data[(data[col] >= lower_bound) & (data[col] <= upper_bound)]"
   ]
  },
  {
   "cell_type": "code",
   "execution_count": 10,
   "id": "ab27ed2c",
   "metadata": {},
   "outputs": [],
   "source": [
    "# 数据处理\n",
    "num_imputer = SimpleImputer(strategy='median')\n",
    "cat_imputer = SimpleImputer(strategy='most_frequent')\n",
    "data[numerical_cols_without_target] = num_imputer.fit_transform(data[numerical_cols_without_target])\n",
    "\n",
    "data[true_categorical_cols] = cat_imputer.fit_transform(data[true_categorical_cols])\n",
    "data[true_categorical_cols] = data[true_categorical_cols].astype(str)\n",
    "\n",
    "ohe = OneHotEncoder(handle_unknown='ignore')\n",
    "cat_encoded = pd.DataFrame(\n",
    "    ohe.fit_transform(data[true_categorical_cols]).toarray(),\n",
    "    columns=ohe.get_feature_names_out(true_categorical_cols)\n",
    ")\n",
    "\n",
    "ord_encoder = OrdinalEncoder()\n",
    "ord_encoded = pd.DataFrame(ord_encoder.fit_transform(data[ordinal_cols]), \n",
    "                           columns=ordinal_cols)"
   ]
  },
  {
   "cell_type": "code",
   "execution_count": 11,
   "id": "4eafc95d",
   "metadata": {},
   "outputs": [],
   "source": [
    "data_processed = pd.concat([data[numerical_cols_without_target], cat_encoded, ord_encoded, data['Number of nights in CITY'], data['Purpose of visit to CITY']], axis=1)"
   ]
  },
  {
   "cell_type": "code",
   "execution_count": 12,
   "id": "c80000ee",
   "metadata": {},
   "outputs": [],
   "source": [
    "# data['Number of nights in CITY'] = data['Number of nights in CITY'].replace(0, 1e-1)\n",
    "# data_processed['Expenditure_per_night'] = data['Total expenditures'] / data['Number of nights in CITY']\n",
    "\n",
    "data_processed = data_processed.drop_duplicates() # 删除重复行\n",
    "\n",
    "data_processed = data_processed.fillna(data_processed.mode().iloc[0])  # 填充数值型特征的缺失值"
   ]
  },
  {
   "cell_type": "code",
   "execution_count": 13,
   "id": "87546497",
   "metadata": {},
   "outputs": [],
   "source": [
    "# 保存处理后的数据\n",
    "data_processed.to_pickle(\n",
    "    f\"data/data_processed_augmented_missing_threshold_{int(missing_threshold * 10)}_outlier_std_threshold_{outlier_std_threshold}.pkl\")\n",
    "\n",
    "# data_processed.to_pickle(\n",
    "#     f\"data/data_processed_augmented_missing_threshold_{int(missing_threshold * 10)}.pkl\")"
   ]
  }
 ],
 "metadata": {
  "kernelspec": {
   "display_name": "mypytorch",
   "language": "python",
   "name": "python3"
  },
  "language_info": {
   "codemirror_mode": {
    "name": "ipython",
    "version": 3
   },
   "file_extension": ".py",
   "mimetype": "text/x-python",
   "name": "python",
   "nbconvert_exporter": "python",
   "pygments_lexer": "ipython3",
   "version": "3.12.0"
  }
 },
 "nbformat": 4,
 "nbformat_minor": 5
}
