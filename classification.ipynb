{
 "cells": [
  {
   "cell_type": "code",
   "execution_count": 2,
   "id": "b25d7020",
   "metadata": {},
   "outputs": [],
   "source": [
    "import pandas as pd\n",
    "import numpy as np\n",
    "from sklearn.model_selection import TimeSeriesSplit, GridSearchCV, train_test_split\n",
    "from sklearn.preprocessing import StandardScaler, OneHotEncoder, OrdinalEncoder\n",
    "from sklearn.impute import SimpleImputer\n",
    "from sklearn.decomposition import PCA\n",
    "from sklearn.discriminant_analysis import LinearDiscriminantAnalysis as LDA\n",
    "from sklearn.feature_selection import SelectKBest, chi2, f_regression\n",
    "from sklearn.linear_model import LogisticRegression\n",
    "from sklearn.ensemble import RandomForestClassifier\n",
    "from sklearn.tree import DecisionTreeClassifier\n",
    "from sklearn.svm import SVC, LinearSVC\n",
    "from sklearn.metrics import accuracy_score, roc_auc_score\n",
    "from sklearn.metrics import precision_recall_fscore_support\n",
    "from sklearn.metrics import confusion_matrix\n",
    "import matplotlib.pyplot as plt\n",
    "import seaborn as sns\n",
    "from tqdm import tqdm\n",
    "from sklearn.ensemble import VotingClassifier, BaggingClassifier, AdaBoostClassifier,\\\n",
    "      GradientBoostingClassifier, StackingClassifier, VotingClassifier\n",
    "from xgboost import XGBClassifier\n",
    "import json\n"
   ]
  },
  {
   "cell_type": "markdown",
   "id": "59009f2a",
   "metadata": {},
   "source": [
    "## 数据处理部分"
   ]
  },
  {
   "cell_type": "code",
   "execution_count": 3,
   "id": "ac23fcc5",
   "metadata": {},
   "outputs": [],
   "source": [
    "data = pd.read_pickle(\"data/data_processed_augmented_missing_threshold_2_outlier_std_threshold_3.pkl\")\n",
    "X_orig = data.drop(columns=['Number of nights in CITY', 'Purpose of visit to CITY']).to_numpy()\n",
    "y = data['Purpose of visit to CITY'].to_numpy()"
   ]
  },
  {
   "cell_type": "code",
   "execution_count": 4,
   "id": "cbdd0120",
   "metadata": {},
   "outputs": [],
   "source": [
    "# ss = np.load('data/outliers_unscaled.npz')\n",
    "# outliers = ss['outliers'].astype(int)\n",
    "# rows_to_remove = outliers\n",
    "# X_orig = np.delete(X_orig, rows_to_remove, axis=0)\n",
    "# y = np.delete(y, rows_to_remove)"
   ]
  },
  {
   "cell_type": "code",
   "execution_count": 5,
   "id": "52d780e2",
   "metadata": {},
   "outputs": [],
   "source": [
    "pca_50 = PCA(n_components= 50)  \n",
    "X_pca_50 = pca_50.fit_transform(X_orig)\n",
    "\n",
    "pca_100 = PCA(n_components= 100)  \n",
    "X_pca_100 = pca_100.fit_transform(X_orig)\n",
    "\n",
    "pca_200 = PCA(n_components= 200)  \n",
    "X_pca_200 = pca_200.fit_transform(X_orig)"
   ]
  },
  {
   "cell_type": "code",
   "execution_count": 6,
   "id": "5b30b815",
   "metadata": {},
   "outputs": [],
   "source": [
    "lda = LDA(n_components=min(len(np.unique(y)) - 1, X_orig.shape[1]))\n",
    "X_lda = lda.fit_transform(X_orig, y)"
   ]
  },
  {
   "cell_type": "code",
   "execution_count": null,
   "id": "bc05b1b1",
   "metadata": {},
   "outputs": [],
   "source": [
    "select_50 = SelectKBest(k=50)\n",
    "X_selected_50 = select_50.fit_transform(X_orig, y)\n",
    "\n",
    "select_100 = SelectKBest(k=100)\n",
    "X_selected_100 = select_100.fit_transform(X_orig, y)\n",
    "\n",
    "select_200 = SelectKBest(k=200)\n",
    "X_selected_200 = select_200.fit_transform(X_orig, y)"
   ]
  },
  {
   "cell_type": "code",
   "execution_count": 7,
   "id": "a9c34dee",
   "metadata": {},
   "outputs": [],
   "source": [
    "tscv = TimeSeriesSplit(n_splits=5)"
   ]
  },
  {
   "cell_type": "code",
   "execution_count": 8,
   "id": "fefd9124",
   "metadata": {},
   "outputs": [
    {
     "name": "stdout",
     "output_type": "stream",
     "text": [
      "(71214, 226)\n"
     ]
    }
   ],
   "source": [
    "print(X_orig.shape)"
   ]
  },
  {
   "cell_type": "code",
   "execution_count": 9,
   "id": "db21e674",
   "metadata": {},
   "outputs": [
    {
     "name": "stdout",
     "output_type": "stream",
     "text": [
      "[3. 2. 1. ... 1. 1. 1.]\n"
     ]
    }
   ],
   "source": [
    "print(y)"
   ]
  },
  {
   "cell_type": "code",
   "execution_count": 10,
   "id": "a9dd7ca6",
   "metadata": {},
   "outputs": [
    {
     "name": "stdout",
     "output_type": "stream",
     "text": [
      "[3 2 1 ... 1 1 1]\n"
     ]
    }
   ],
   "source": [
    "y = y.astype(int)\n",
    "print(y)"
   ]
  },
  {
   "cell_type": "markdown",
   "id": "ebacc9e4",
   "metadata": {},
   "source": [
    "## Logistic Regression"
   ]
  },
  {
   "cell_type": "code",
   "execution_count": null,
   "id": "50074c69",
   "metadata": {},
   "outputs": [
    {
     "name": "stderr",
     "output_type": "stream",
     "text": [
      "Processing Original: 0it [00:00, ?it/s]d:\\Anaconda\\envs\\mypytorch\\Lib\\site-packages\\sklearn\\linear_model\\_sag.py:349: ConvergenceWarning: The max_iter was reached which means the coef_ did not converge\n",
      "  warnings.warn(\n",
      "Processing Original: 1it [01:14, 74.75s/it]"
     ]
    },
    {
     "name": "stdout",
     "output_type": "stream",
     "text": [
      "Logistic Regression-Original - Fold 0 - Accuracy: 0.63, Precision: 0.52, Recall: 0.63, F1: 0.55, AUC: 0.54\n"
     ]
    },
    {
     "name": "stderr",
     "output_type": "stream",
     "text": [
      "d:\\Anaconda\\envs\\mypytorch\\Lib\\site-packages\\sklearn\\linear_model\\_sag.py:349: ConvergenceWarning: The max_iter was reached which means the coef_ did not converge\n",
      "  warnings.warn(\n",
      "Processing Original: 2it [03:49, 122.07s/it]"
     ]
    },
    {
     "name": "stdout",
     "output_type": "stream",
     "text": [
      "Logistic Regression-Original - Fold 1 - Accuracy: 0.70, Precision: 0.70, Recall: 0.70, F1: 0.58, AUC: 0.58\n"
     ]
    },
    {
     "name": "stderr",
     "output_type": "stream",
     "text": [
      "d:\\Anaconda\\envs\\mypytorch\\Lib\\site-packages\\sklearn\\linear_model\\_sag.py:349: ConvergenceWarning: The max_iter was reached which means the coef_ did not converge\n",
      "  warnings.warn(\n",
      "Processing Original: 3it [07:29, 166.73s/it]"
     ]
    },
    {
     "name": "stdout",
     "output_type": "stream",
     "text": [
      "Logistic Regression-Original - Fold 2 - Accuracy: 0.71, Precision: 0.68, Recall: 0.71, F1: 0.59, AUC: 0.54\n"
     ]
    },
    {
     "name": "stderr",
     "output_type": "stream",
     "text": [
      "d:\\Anaconda\\envs\\mypytorch\\Lib\\site-packages\\sklearn\\linear_model\\_sag.py:349: ConvergenceWarning: The max_iter was reached which means the coef_ did not converge\n",
      "  warnings.warn(\n",
      "Processing Original: 4it [12:34, 221.06s/it]"
     ]
    },
    {
     "name": "stdout",
     "output_type": "stream",
     "text": [
      "Logistic Regression-Original - Fold 3 - Accuracy: 0.72, Precision: 0.64, Recall: 0.72, F1: 0.60, AUC: 0.59\n"
     ]
    },
    {
     "name": "stderr",
     "output_type": "stream",
     "text": [
      "d:\\Anaconda\\envs\\mypytorch\\Lib\\site-packages\\sklearn\\linear_model\\_sag.py:349: ConvergenceWarning: The max_iter was reached which means the coef_ did not converge\n",
      "  warnings.warn(\n",
      "Processing Original: 5it [18:54, 226.92s/it]\n"
     ]
    },
    {
     "name": "stdout",
     "output_type": "stream",
     "text": [
      "Logistic Regression-Original - Fold 4 - Accuracy: 0.69, Precision: 0.65, Recall: 0.69, F1: 0.57, AUC: 0.57\n",
      "\n",
      "Average Performance Across Folds for Original:\n",
      "Logistic Regression-Original - Accuracy: 0.69, Precision: 0.64, Recall: 0.69, F1: 0.58, AUC: 0.56\n",
      "\n"
     ]
    },
    {
     "name": "stderr",
     "output_type": "stream",
     "text": [
      "Processing PCA_50: 0it [00:00, ?it/s]d:\\Anaconda\\envs\\mypytorch\\Lib\\site-packages\\sklearn\\linear_model\\_sag.py:349: ConvergenceWarning: The max_iter was reached which means the coef_ did not converge\n",
      "  warnings.warn(\n",
      "Processing PCA_50: 1it [00:10, 10.41s/it]"
     ]
    },
    {
     "name": "stdout",
     "output_type": "stream",
     "text": [
      "Logistic Regression-PCA_50 - Fold 0 - Accuracy: 0.64, Precision: 0.57, Recall: 0.64, F1: 0.59, AUC: 0.57\n"
     ]
    },
    {
     "name": "stderr",
     "output_type": "stream",
     "text": [
      "d:\\Anaconda\\envs\\mypytorch\\Lib\\site-packages\\sklearn\\linear_model\\_sag.py:349: ConvergenceWarning: The max_iter was reached which means the coef_ did not converge\n",
      "  warnings.warn(\n",
      "Processing PCA_50: 2it [00:34, 18.30s/it]"
     ]
    },
    {
     "name": "stdout",
     "output_type": "stream",
     "text": [
      "Logistic Regression-PCA_50 - Fold 1 - Accuracy: 0.54, Precision: 0.59, Recall: 0.54, F1: 0.56, AUC: 0.59\n"
     ]
    },
    {
     "name": "stderr",
     "output_type": "stream",
     "text": [
      "d:\\Anaconda\\envs\\mypytorch\\Lib\\site-packages\\sklearn\\linear_model\\_sag.py:349: ConvergenceWarning: The max_iter was reached which means the coef_ did not converge\n",
      "  warnings.warn(\n",
      "Processing PCA_50: 3it [01:09, 25.91s/it]"
     ]
    },
    {
     "name": "stdout",
     "output_type": "stream",
     "text": [
      "Logistic Regression-PCA_50 - Fold 2 - Accuracy: 0.57, Precision: 0.59, Recall: 0.57, F1: 0.58, AUC: 0.57\n"
     ]
    },
    {
     "name": "stderr",
     "output_type": "stream",
     "text": [
      "d:\\Anaconda\\envs\\mypytorch\\Lib\\site-packages\\sklearn\\linear_model\\_sag.py:349: ConvergenceWarning: The max_iter was reached which means the coef_ did not converge\n",
      "  warnings.warn(\n",
      "Processing PCA_50: 4it [01:55, 33.80s/it]"
     ]
    },
    {
     "name": "stdout",
     "output_type": "stream",
     "text": [
      "Logistic Regression-PCA_50 - Fold 3 - Accuracy: 0.52, Precision: 0.60, Recall: 0.52, F1: 0.55, AUC: 0.59\n"
     ]
    },
    {
     "name": "stderr",
     "output_type": "stream",
     "text": [
      "d:\\Anaconda\\envs\\mypytorch\\Lib\\site-packages\\sklearn\\linear_model\\_sag.py:349: ConvergenceWarning: The max_iter was reached which means the coef_ did not converge\n",
      "  warnings.warn(\n",
      "Processing PCA_50: 5it [02:54, 34.90s/it]\n"
     ]
    },
    {
     "name": "stdout",
     "output_type": "stream",
     "text": [
      "Logistic Regression-PCA_50 - Fold 4 - Accuracy: 0.54, Precision: 0.57, Recall: 0.54, F1: 0.55, AUC: 0.57\n",
      "\n",
      "Average Performance Across Folds for PCA_50:\n",
      "Logistic Regression-PCA_50 - Accuracy: 0.56, Precision: 0.59, Recall: 0.56, F1: 0.56, AUC: 0.58\n",
      "\n"
     ]
    },
    {
     "name": "stderr",
     "output_type": "stream",
     "text": [
      "Processing PCA_100: 0it [00:00, ?it/s]d:\\Anaconda\\envs\\mypytorch\\Lib\\site-packages\\sklearn\\linear_model\\_sag.py:349: ConvergenceWarning: The max_iter was reached which means the coef_ did not converge\n",
      "  warnings.warn(\n",
      "Processing PCA_100: 1it [00:20, 20.16s/it]"
     ]
    },
    {
     "name": "stdout",
     "output_type": "stream",
     "text": [
      "Logistic Regression-PCA_100 - Fold 0 - Accuracy: 0.64, Precision: 0.57, Recall: 0.64, F1: 0.59, AUC: 0.57\n"
     ]
    },
    {
     "name": "stderr",
     "output_type": "stream",
     "text": [
      "d:\\Anaconda\\envs\\mypytorch\\Lib\\site-packages\\sklearn\\linear_model\\_sag.py:349: ConvergenceWarning: The max_iter was reached which means the coef_ did not converge\n",
      "  warnings.warn(\n",
      "Processing PCA_100: 2it [00:59, 31.52s/it]"
     ]
    },
    {
     "name": "stdout",
     "output_type": "stream",
     "text": [
      "Logistic Regression-PCA_100 - Fold 1 - Accuracy: 0.54, Precision: 0.59, Recall: 0.54, F1: 0.56, AUC: 0.59\n"
     ]
    },
    {
     "name": "stderr",
     "output_type": "stream",
     "text": [
      "d:\\Anaconda\\envs\\mypytorch\\Lib\\site-packages\\sklearn\\linear_model\\_sag.py:349: ConvergenceWarning: The max_iter was reached which means the coef_ did not converge\n",
      "  warnings.warn(\n",
      "Processing PCA_100: 3it [02:03, 46.30s/it]"
     ]
    },
    {
     "name": "stdout",
     "output_type": "stream",
     "text": [
      "Logistic Regression-PCA_100 - Fold 2 - Accuracy: 0.57, Precision: 0.59, Recall: 0.57, F1: 0.58, AUC: 0.57\n"
     ]
    },
    {
     "name": "stderr",
     "output_type": "stream",
     "text": [
      "d:\\Anaconda\\envs\\mypytorch\\Lib\\site-packages\\sklearn\\linear_model\\_sag.py:349: ConvergenceWarning: The max_iter was reached which means the coef_ did not converge\n",
      "  warnings.warn(\n",
      "Processing PCA_100: 4it [03:27, 61.36s/it]"
     ]
    },
    {
     "name": "stdout",
     "output_type": "stream",
     "text": [
      "Logistic Regression-PCA_100 - Fold 3 - Accuracy: 0.52, Precision: 0.60, Recall: 0.52, F1: 0.55, AUC: 0.59\n"
     ]
    },
    {
     "name": "stderr",
     "output_type": "stream",
     "text": [
      "d:\\Anaconda\\envs\\mypytorch\\Lib\\site-packages\\sklearn\\linear_model\\_sag.py:349: ConvergenceWarning: The max_iter was reached which means the coef_ did not converge\n",
      "  warnings.warn(\n",
      "Processing PCA_100: 5it [05:15, 63.09s/it]\n"
     ]
    },
    {
     "name": "stdout",
     "output_type": "stream",
     "text": [
      "Logistic Regression-PCA_100 - Fold 4 - Accuracy: 0.54, Precision: 0.57, Recall: 0.54, F1: 0.55, AUC: 0.57\n",
      "\n",
      "Average Performance Across Folds for PCA_100:\n",
      "Logistic Regression-PCA_100 - Accuracy: 0.56, Precision: 0.59, Recall: 0.56, F1: 0.56, AUC: 0.58\n",
      "\n"
     ]
    },
    {
     "name": "stderr",
     "output_type": "stream",
     "text": [
      "Processing PCA_200: 0it [00:00, ?it/s]d:\\Anaconda\\envs\\mypytorch\\Lib\\site-packages\\sklearn\\linear_model\\_sag.py:349: ConvergenceWarning: The max_iter was reached which means the coef_ did not converge\n",
      "  warnings.warn(\n",
      "Processing PCA_200: 1it [00:37, 37.38s/it]"
     ]
    },
    {
     "name": "stdout",
     "output_type": "stream",
     "text": [
      "Logistic Regression-PCA_200 - Fold 0 - Accuracy: 0.64, Precision: 0.57, Recall: 0.64, F1: 0.59, AUC: 0.57\n"
     ]
    },
    {
     "name": "stderr",
     "output_type": "stream",
     "text": [
      "d:\\Anaconda\\envs\\mypytorch\\Lib\\site-packages\\sklearn\\linear_model\\_sag.py:349: ConvergenceWarning: The max_iter was reached which means the coef_ did not converge\n",
      "  warnings.warn(\n",
      "Processing PCA_200: 2it [01:54, 61.03s/it]"
     ]
    },
    {
     "name": "stdout",
     "output_type": "stream",
     "text": [
      "Logistic Regression-PCA_200 - Fold 1 - Accuracy: 0.54, Precision: 0.59, Recall: 0.54, F1: 0.56, AUC: 0.59\n"
     ]
    },
    {
     "name": "stderr",
     "output_type": "stream",
     "text": [
      "d:\\Anaconda\\envs\\mypytorch\\Lib\\site-packages\\sklearn\\linear_model\\_sag.py:349: ConvergenceWarning: The max_iter was reached which means the coef_ did not converge\n",
      "  warnings.warn(\n",
      "Processing PCA_200: 3it [03:59, 89.88s/it]"
     ]
    },
    {
     "name": "stdout",
     "output_type": "stream",
     "text": [
      "Logistic Regression-PCA_200 - Fold 2 - Accuracy: 0.57, Precision: 0.59, Recall: 0.57, F1: 0.58, AUC: 0.57\n"
     ]
    },
    {
     "name": "stderr",
     "output_type": "stream",
     "text": [
      "d:\\Anaconda\\envs\\mypytorch\\Lib\\site-packages\\sklearn\\linear_model\\_sag.py:349: ConvergenceWarning: The max_iter was reached which means the coef_ did not converge\n",
      "  warnings.warn(\n",
      "Processing PCA_200: 4it [06:42, 118.83s/it]"
     ]
    },
    {
     "name": "stdout",
     "output_type": "stream",
     "text": [
      "Logistic Regression-PCA_200 - Fold 3 - Accuracy: 0.52, Precision: 0.60, Recall: 0.52, F1: 0.55, AUC: 0.59\n"
     ]
    },
    {
     "name": "stderr",
     "output_type": "stream",
     "text": [
      "d:\\Anaconda\\envs\\mypytorch\\Lib\\site-packages\\sklearn\\linear_model\\_sag.py:349: ConvergenceWarning: The max_iter was reached which means the coef_ did not converge\n",
      "  warnings.warn(\n",
      "Processing PCA_200: 5it [10:07, 121.59s/it]\n"
     ]
    },
    {
     "name": "stdout",
     "output_type": "stream",
     "text": [
      "Logistic Regression-PCA_200 - Fold 4 - Accuracy: 0.54, Precision: 0.57, Recall: 0.54, F1: 0.55, AUC: 0.57\n",
      "\n",
      "Average Performance Across Folds for PCA_200:\n",
      "Logistic Regression-PCA_200 - Accuracy: 0.56, Precision: 0.59, Recall: 0.56, F1: 0.56, AUC: 0.58\n",
      "\n"
     ]
    },
    {
     "name": "stderr",
     "output_type": "stream",
     "text": [
      "Processing Select50Best: 0it [00:00, ?it/s]d:\\Anaconda\\envs\\mypytorch\\Lib\\site-packages\\sklearn\\linear_model\\_sag.py:349: ConvergenceWarning: The max_iter was reached which means the coef_ did not converge\n",
      "  warnings.warn(\n",
      "Processing Select50Best: 1it [00:10, 10.94s/it]"
     ]
    },
    {
     "name": "stdout",
     "output_type": "stream",
     "text": [
      "Logistic Regression-Select50Best - Fold 0 - Accuracy: 0.85, Precision: 0.85, Recall: 0.85, F1: 0.81, AUC: 0.92\n"
     ]
    },
    {
     "name": "stderr",
     "output_type": "stream",
     "text": [
      "d:\\Anaconda\\envs\\mypytorch\\Lib\\site-packages\\sklearn\\linear_model\\_sag.py:349: ConvergenceWarning: The max_iter was reached which means the coef_ did not converge\n",
      "  warnings.warn(\n",
      "Processing Select50Best: 2it [00:33, 17.49s/it]"
     ]
    },
    {
     "name": "stdout",
     "output_type": "stream",
     "text": [
      "Logistic Regression-Select50Best - Fold 1 - Accuracy: 0.86, Precision: 0.82, Recall: 0.86, F1: 0.82, AUC: 0.92\n"
     ]
    },
    {
     "name": "stderr",
     "output_type": "stream",
     "text": [
      "d:\\Anaconda\\envs\\mypytorch\\Lib\\site-packages\\sklearn\\linear_model\\_sag.py:349: ConvergenceWarning: The max_iter was reached which means the coef_ did not converge\n",
      "  warnings.warn(\n",
      "Processing Select50Best: 3it [01:07, 25.17s/it]"
     ]
    },
    {
     "name": "stdout",
     "output_type": "stream",
     "text": [
      "Logistic Regression-Select50Best - Fold 2 - Accuracy: 0.85, Precision: 0.83, Recall: 0.85, F1: 0.82, AUC: 0.92\n"
     ]
    },
    {
     "name": "stderr",
     "output_type": "stream",
     "text": [
      "d:\\Anaconda\\envs\\mypytorch\\Lib\\site-packages\\sklearn\\linear_model\\_sag.py:349: ConvergenceWarning: The max_iter was reached which means the coef_ did not converge\n",
      "  warnings.warn(\n",
      "Processing Select50Best: 4it [01:53, 33.46s/it]"
     ]
    },
    {
     "name": "stdout",
     "output_type": "stream",
     "text": [
      "Logistic Regression-Select50Best - Fold 3 - Accuracy: 0.87, Precision: 0.85, Recall: 0.87, F1: 0.84, AUC: 0.93\n"
     ]
    },
    {
     "name": "stderr",
     "output_type": "stream",
     "text": [
      "d:\\Anaconda\\envs\\mypytorch\\Lib\\site-packages\\sklearn\\linear_model\\_sag.py:349: ConvergenceWarning: The max_iter was reached which means the coef_ did not converge\n",
      "  warnings.warn(\n",
      "Processing Select50Best: 5it [02:53, 34.61s/it]\n"
     ]
    },
    {
     "name": "stdout",
     "output_type": "stream",
     "text": [
      "Logistic Regression-Select50Best - Fold 4 - Accuracy: 0.87, Precision: 0.84, Recall: 0.87, F1: 0.83, AUC: 0.93\n",
      "\n",
      "Average Performance Across Folds for Select50Best:\n",
      "Logistic Regression-Select50Best - Accuracy: 0.86, Precision: 0.84, Recall: 0.86, F1: 0.82, AUC: 0.92\n",
      "\n"
     ]
    },
    {
     "name": "stderr",
     "output_type": "stream",
     "text": [
      "Processing Select100Best: 0it [00:00, ?it/s]d:\\Anaconda\\envs\\mypytorch\\Lib\\site-packages\\sklearn\\linear_model\\_sag.py:349: ConvergenceWarning: The max_iter was reached which means the coef_ did not converge\n",
      "  warnings.warn(\n",
      "Processing Select100Best: 1it [00:19, 19.18s/it]"
     ]
    },
    {
     "name": "stdout",
     "output_type": "stream",
     "text": [
      "Logistic Regression-Select100Best - Fold 0 - Accuracy: 0.67, Precision: 0.62, Recall: 0.67, F1: 0.58, AUC: 0.49\n"
     ]
    },
    {
     "name": "stderr",
     "output_type": "stream",
     "text": [
      "d:\\Anaconda\\envs\\mypytorch\\Lib\\site-packages\\sklearn\\linear_model\\_sag.py:349: ConvergenceWarning: The max_iter was reached which means the coef_ did not converge\n",
      "  warnings.warn(\n",
      "Processing Select100Best: 2it [00:58, 31.13s/it]"
     ]
    },
    {
     "name": "stdout",
     "output_type": "stream",
     "text": [
      "Logistic Regression-Select100Best - Fold 1 - Accuracy: 0.68, Precision: 0.64, Recall: 0.68, F1: 0.61, AUC: 0.50\n"
     ]
    },
    {
     "name": "stderr",
     "output_type": "stream",
     "text": [
      "d:\\Anaconda\\envs\\mypytorch\\Lib\\site-packages\\sklearn\\linear_model\\_sag.py:349: ConvergenceWarning: The max_iter was reached which means the coef_ did not converge\n",
      "  warnings.warn(\n",
      "Processing Select100Best: 3it [02:00, 45.19s/it]"
     ]
    },
    {
     "name": "stdout",
     "output_type": "stream",
     "text": [
      "Logistic Regression-Select100Best - Fold 2 - Accuracy: 0.69, Precision: 0.63, Recall: 0.69, F1: 0.61, AUC: 0.49\n"
     ]
    },
    {
     "name": "stderr",
     "output_type": "stream",
     "text": [
      "d:\\Anaconda\\envs\\mypytorch\\Lib\\site-packages\\sklearn\\linear_model\\_sag.py:349: ConvergenceWarning: The max_iter was reached which means the coef_ did not converge\n",
      "  warnings.warn(\n",
      "Processing Select100Best: 4it [03:24, 60.50s/it]"
     ]
    },
    {
     "name": "stdout",
     "output_type": "stream",
     "text": [
      "Logistic Regression-Select100Best - Fold 3 - Accuracy: 0.69, Precision: 0.63, Recall: 0.69, F1: 0.62, AUC: 0.49\n"
     ]
    },
    {
     "name": "stderr",
     "output_type": "stream",
     "text": [
      "d:\\Anaconda\\envs\\mypytorch\\Lib\\site-packages\\sklearn\\linear_model\\_sag.py:349: ConvergenceWarning: The max_iter was reached which means the coef_ did not converge\n",
      "  warnings.warn(\n",
      "Processing Select100Best: 5it [05:17, 63.50s/it]\n"
     ]
    },
    {
     "name": "stdout",
     "output_type": "stream",
     "text": [
      "Logistic Regression-Select100Best - Fold 4 - Accuracy: 0.68, Precision: 0.62, Recall: 0.68, F1: 0.58, AUC: 0.50\n",
      "\n",
      "Average Performance Across Folds for Select100Best:\n",
      "Logistic Regression-Select100Best - Accuracy: 0.68, Precision: 0.63, Recall: 0.68, F1: 0.60, AUC: 0.49\n",
      "\n"
     ]
    },
    {
     "name": "stderr",
     "output_type": "stream",
     "text": [
      "Processing Select200Best: 0it [00:00, ?it/s]d:\\Anaconda\\envs\\mypytorch\\Lib\\site-packages\\sklearn\\linear_model\\_sag.py:349: ConvergenceWarning: The max_iter was reached which means the coef_ did not converge\n",
      "  warnings.warn(\n",
      "Processing Select200Best: 1it [00:37, 37.54s/it]"
     ]
    },
    {
     "name": "stdout",
     "output_type": "stream",
     "text": [
      "Logistic Regression-Select200Best - Fold 0 - Accuracy: 0.63, Precision: 0.52, Recall: 0.63, F1: 0.55, AUC: 0.54\n"
     ]
    },
    {
     "name": "stderr",
     "output_type": "stream",
     "text": [
      "d:\\Anaconda\\envs\\mypytorch\\Lib\\site-packages\\sklearn\\linear_model\\_sag.py:349: ConvergenceWarning: The max_iter was reached which means the coef_ did not converge\n",
      "  warnings.warn(\n",
      "Processing Select200Best: 2it [01:55, 61.08s/it]"
     ]
    },
    {
     "name": "stdout",
     "output_type": "stream",
     "text": [
      "Logistic Regression-Select200Best - Fold 1 - Accuracy: 0.70, Precision: 0.70, Recall: 0.70, F1: 0.58, AUC: 0.58\n"
     ]
    },
    {
     "name": "stderr",
     "output_type": "stream",
     "text": [
      "d:\\Anaconda\\envs\\mypytorch\\Lib\\site-packages\\sklearn\\linear_model\\_sag.py:349: ConvergenceWarning: The max_iter was reached which means the coef_ did not converge\n",
      "  warnings.warn(\n",
      "Processing Select200Best: 3it [03:56, 88.53s/it]"
     ]
    },
    {
     "name": "stdout",
     "output_type": "stream",
     "text": [
      "Logistic Regression-Select200Best - Fold 2 - Accuracy: 0.71, Precision: 0.68, Recall: 0.71, F1: 0.59, AUC: 0.54\n"
     ]
    },
    {
     "name": "stderr",
     "output_type": "stream",
     "text": [
      "d:\\Anaconda\\envs\\mypytorch\\Lib\\site-packages\\sklearn\\linear_model\\_sag.py:349: ConvergenceWarning: The max_iter was reached which means the coef_ did not converge\n",
      "  warnings.warn(\n",
      "Processing Select200Best: 4it [06:40, 118.47s/it]"
     ]
    },
    {
     "name": "stdout",
     "output_type": "stream",
     "text": [
      "Logistic Regression-Select200Best - Fold 3 - Accuracy: 0.72, Precision: 0.64, Recall: 0.72, F1: 0.60, AUC: 0.59\n"
     ]
    },
    {
     "name": "stderr",
     "output_type": "stream",
     "text": [
      "d:\\Anaconda\\envs\\mypytorch\\Lib\\site-packages\\sklearn\\linear_model\\_sag.py:349: ConvergenceWarning: The max_iter was reached which means the coef_ did not converge\n",
      "  warnings.warn(\n",
      "Processing Select200Best: 5it [10:05, 121.04s/it]\n"
     ]
    },
    {
     "name": "stdout",
     "output_type": "stream",
     "text": [
      "Logistic Regression-Select200Best - Fold 4 - Accuracy: 0.69, Precision: 0.65, Recall: 0.69, F1: 0.57, AUC: 0.57\n",
      "\n",
      "Average Performance Across Folds for Select200Best:\n",
      "Logistic Regression-Select200Best - Accuracy: 0.69, Precision: 0.64, Recall: 0.69, F1: 0.58, AUC: 0.56\n",
      "\n"
     ]
    },
    {
     "name": "stderr",
     "output_type": "stream",
     "text": [
      "Processing LDA: 2it [00:00,  2.45it/s]"
     ]
    },
    {
     "name": "stdout",
     "output_type": "stream",
     "text": [
      "Logistic Regression-LDA - Fold 0 - Accuracy: 0.87, Precision: 0.87, Recall: 0.87, F1: 0.87, AUC: 0.95\n",
      "Logistic Regression-LDA - Fold 1 - Accuracy: 0.87, Precision: 0.86, Recall: 0.87, F1: 0.86, AUC: 0.95\n"
     ]
    },
    {
     "name": "stderr",
     "output_type": "stream",
     "text": [
      "Processing LDA: 3it [00:01,  1.54it/s]"
     ]
    },
    {
     "name": "stdout",
     "output_type": "stream",
     "text": [
      "Logistic Regression-LDA - Fold 2 - Accuracy: 0.88, Precision: 0.87, Recall: 0.88, F1: 0.87, AUC: 0.95\n"
     ]
    },
    {
     "name": "stderr",
     "output_type": "stream",
     "text": [
      "Processing LDA: 4it [00:02,  1.93it/s]"
     ]
    },
    {
     "name": "stdout",
     "output_type": "stream",
     "text": [
      "Logistic Regression-LDA - Fold 3 - Accuracy: 0.88, Precision: 0.88, Recall: 0.88, F1: 0.88, AUC: 0.96\n"
     ]
    },
    {
     "name": "stderr",
     "output_type": "stream",
     "text": [
      "Processing LDA: 5it [00:02,  1.99it/s]\n"
     ]
    },
    {
     "name": "stdout",
     "output_type": "stream",
     "text": [
      "Logistic Regression-LDA - Fold 4 - Accuracy: 0.88, Precision: 0.87, Recall: 0.88, F1: 0.87, AUC: 0.95\n",
      "\n",
      "Average Performance Across Folds for LDA:\n",
      "Logistic Regression-LDA - Accuracy: 0.88, Precision: 0.87, Recall: 0.88, F1: 0.87, AUC: 0.95\n",
      "\n"
     ]
    },
    {
     "name": "stderr",
     "output_type": "stream",
     "text": [
      "Processing Scaled_Original: 0it [00:00, ?it/s]d:\\Anaconda\\envs\\mypytorch\\Lib\\site-packages\\sklearn\\linear_model\\_sag.py:349: ConvergenceWarning: The max_iter was reached which means the coef_ did not converge\n",
      "  warnings.warn(\n",
      "Processing Scaled_Original: 1it [01:11, 71.23s/it]"
     ]
    },
    {
     "name": "stdout",
     "output_type": "stream",
     "text": [
      "Logistic Regression-Scaled_Original - Fold 0 - Accuracy: 0.87, Precision: 0.86, Recall: 0.87, F1: 0.87, AUC: 0.95\n"
     ]
    },
    {
     "name": "stderr",
     "output_type": "stream",
     "text": [
      "d:\\Anaconda\\envs\\mypytorch\\Lib\\site-packages\\sklearn\\linear_model\\_sag.py:349: ConvergenceWarning: The max_iter was reached which means the coef_ did not converge\n",
      "  warnings.warn(\n",
      "Processing Scaled_Original: 2it [03:38, 115.67s/it]"
     ]
    },
    {
     "name": "stdout",
     "output_type": "stream",
     "text": [
      "Logistic Regression-Scaled_Original - Fold 1 - Accuracy: 0.86, Precision: 0.86, Recall: 0.86, F1: 0.86, AUC: 0.94\n"
     ]
    },
    {
     "name": "stderr",
     "output_type": "stream",
     "text": [
      "d:\\Anaconda\\envs\\mypytorch\\Lib\\site-packages\\sklearn\\linear_model\\_sag.py:349: ConvergenceWarning: The max_iter was reached which means the coef_ did not converge\n",
      "  warnings.warn(\n",
      "Processing Scaled_Original: 3it [07:25, 166.60s/it]"
     ]
    },
    {
     "name": "stdout",
     "output_type": "stream",
     "text": [
      "Logistic Regression-Scaled_Original - Fold 2 - Accuracy: 0.88, Precision: 0.87, Recall: 0.88, F1: 0.87, AUC: 0.95\n"
     ]
    },
    {
     "name": "stderr",
     "output_type": "stream",
     "text": [
      "d:\\Anaconda\\envs\\mypytorch\\Lib\\site-packages\\sklearn\\linear_model\\_sag.py:349: ConvergenceWarning: The max_iter was reached which means the coef_ did not converge\n",
      "  warnings.warn(\n",
      "Processing Scaled_Original: 4it [12:30, 221.21s/it]"
     ]
    },
    {
     "name": "stdout",
     "output_type": "stream",
     "text": [
      "Logistic Regression-Scaled_Original - Fold 3 - Accuracy: 0.89, Precision: 0.88, Recall: 0.89, F1: 0.88, AUC: 0.95\n"
     ]
    },
    {
     "name": "stderr",
     "output_type": "stream",
     "text": [
      "Processing Scaled_Original: 5it [17:17, 207.41s/it]\n"
     ]
    },
    {
     "name": "stdout",
     "output_type": "stream",
     "text": [
      "Logistic Regression-Scaled_Original - Fold 4 - Accuracy: 0.88, Precision: 0.87, Recall: 0.88, F1: 0.87, AUC: 0.95\n",
      "\n",
      "Average Performance Across Folds for Scaled_Original:\n",
      "Logistic Regression-Scaled_Original - Accuracy: 0.88, Precision: 0.87, Recall: 0.88, F1: 0.87, AUC: 0.95\n",
      "\n"
     ]
    },
    {
     "name": "stderr",
     "output_type": "stream",
     "text": [
      "Processing Scaled_PCA_50: 0it [00:00, ?it/s]d:\\Anaconda\\envs\\mypytorch\\Lib\\site-packages\\sklearn\\linear_model\\_sag.py:349: ConvergenceWarning: The max_iter was reached which means the coef_ did not converge\n",
      "  warnings.warn(\n",
      "Processing Scaled_PCA_50: 1it [00:10, 10.72s/it]"
     ]
    },
    {
     "name": "stdout",
     "output_type": "stream",
     "text": [
      "Logistic Regression-Scaled_PCA_50 - Fold 0 - Accuracy: 0.76, Precision: 0.72, Recall: 0.76, F1: 0.73, AUC: 0.82\n"
     ]
    },
    {
     "name": "stderr",
     "output_type": "stream",
     "text": [
      "Processing Scaled_PCA_50: 2it [00:26, 13.88s/it]"
     ]
    },
    {
     "name": "stdout",
     "output_type": "stream",
     "text": [
      "Logistic Regression-Scaled_PCA_50 - Fold 1 - Accuracy: 0.79, Precision: 0.77, Recall: 0.79, F1: 0.75, AUC: 0.84\n"
     ]
    },
    {
     "name": "stderr",
     "output_type": "stream",
     "text": [
      "Processing Scaled_PCA_50: 3it [00:51, 18.80s/it]"
     ]
    },
    {
     "name": "stdout",
     "output_type": "stream",
     "text": [
      "Logistic Regression-Scaled_PCA_50 - Fold 2 - Accuracy: 0.80, Precision: 0.77, Recall: 0.80, F1: 0.76, AUC: 0.85\n"
     ]
    },
    {
     "name": "stderr",
     "output_type": "stream",
     "text": [
      "Processing Scaled_PCA_50: 4it [01:24, 24.32s/it]"
     ]
    },
    {
     "name": "stdout",
     "output_type": "stream",
     "text": [
      "Logistic Regression-Scaled_PCA_50 - Fold 3 - Accuracy: 0.80, Precision: 0.77, Recall: 0.80, F1: 0.77, AUC: 0.85\n"
     ]
    },
    {
     "name": "stderr",
     "output_type": "stream",
     "text": [
      "Processing Scaled_PCA_50: 5it [02:07, 25.54s/it]\n"
     ]
    },
    {
     "name": "stdout",
     "output_type": "stream",
     "text": [
      "Logistic Regression-Scaled_PCA_50 - Fold 4 - Accuracy: 0.80, Precision: 0.78, Recall: 0.80, F1: 0.76, AUC: 0.85\n",
      "\n",
      "Average Performance Across Folds for Scaled_PCA_50:\n",
      "Logistic Regression-Scaled_PCA_50 - Accuracy: 0.79, Precision: 0.76, Recall: 0.79, F1: 0.75, AUC: 0.84\n",
      "\n"
     ]
    },
    {
     "name": "stderr",
     "output_type": "stream",
     "text": [
      "Processing Scaled_PCA_100: 1it [00:08,  8.67s/it]"
     ]
    },
    {
     "name": "stdout",
     "output_type": "stream",
     "text": [
      "Logistic Regression-Scaled_PCA_100 - Fold 0 - Accuracy: 0.86, Precision: 0.85, Recall: 0.86, F1: 0.85, AUC: 0.93\n"
     ]
    },
    {
     "name": "stderr",
     "output_type": "stream",
     "text": [
      "Processing Scaled_PCA_100: 2it [00:41, 22.91s/it]"
     ]
    },
    {
     "name": "stdout",
     "output_type": "stream",
     "text": [
      "Logistic Regression-Scaled_PCA_100 - Fold 1 - Accuracy: 0.87, Precision: 0.85, Recall: 0.87, F1: 0.85, AUC: 0.94\n"
     ]
    },
    {
     "name": "stderr",
     "output_type": "stream",
     "text": [
      "Processing Scaled_PCA_100: 3it [01:19, 29.98s/it]"
     ]
    },
    {
     "name": "stdout",
     "output_type": "stream",
     "text": [
      "Logistic Regression-Scaled_PCA_100 - Fold 2 - Accuracy: 0.86, Precision: 0.85, Recall: 0.86, F1: 0.85, AUC: 0.94\n"
     ]
    },
    {
     "name": "stderr",
     "output_type": "stream",
     "text": [
      "Processing Scaled_PCA_100: 4it [02:06, 36.43s/it]"
     ]
    },
    {
     "name": "stdout",
     "output_type": "stream",
     "text": [
      "Logistic Regression-Scaled_PCA_100 - Fold 3 - Accuracy: 0.88, Precision: 0.86, Recall: 0.88, F1: 0.86, AUC: 0.94\n"
     ]
    },
    {
     "name": "stderr",
     "output_type": "stream",
     "text": [
      "Processing Scaled_PCA_100: 5it [03:08, 37.76s/it]\n"
     ]
    },
    {
     "name": "stdout",
     "output_type": "stream",
     "text": [
      "Logistic Regression-Scaled_PCA_100 - Fold 4 - Accuracy: 0.87, Precision: 0.86, Recall: 0.87, F1: 0.86, AUC: 0.94\n",
      "\n",
      "Average Performance Across Folds for Scaled_PCA_100:\n",
      "Logistic Regression-Scaled_PCA_100 - Accuracy: 0.87, Precision: 0.86, Recall: 0.87, F1: 0.85, AUC: 0.94\n",
      "\n"
     ]
    },
    {
     "name": "stderr",
     "output_type": "stream",
     "text": [
      "Processing Scaled_PCA_200: 1it [00:17, 17.94s/it]"
     ]
    },
    {
     "name": "stdout",
     "output_type": "stream",
     "text": [
      "Logistic Regression-Scaled_PCA_200 - Fold 0 - Accuracy: 0.87, Precision: 0.86, Recall: 0.87, F1: 0.86, AUC: 0.95\n"
     ]
    },
    {
     "name": "stderr",
     "output_type": "stream",
     "text": [
      "Processing Scaled_PCA_200: 2it [01:34, 52.69s/it]"
     ]
    },
    {
     "name": "stdout",
     "output_type": "stream",
     "text": [
      "Logistic Regression-Scaled_PCA_200 - Fold 1 - Accuracy: 0.88, Precision: 0.87, Recall: 0.88, F1: 0.87, AUC: 0.95\n"
     ]
    },
    {
     "name": "stderr",
     "output_type": "stream",
     "text": [
      "Processing Scaled_PCA_200: 3it [02:44, 60.55s/it]"
     ]
    },
    {
     "name": "stdout",
     "output_type": "stream",
     "text": [
      "Logistic Regression-Scaled_PCA_200 - Fold 2 - Accuracy: 0.85, Precision: 0.85, Recall: 0.85, F1: 0.84, AUC: 0.93\n"
     ]
    },
    {
     "name": "stderr",
     "output_type": "stream",
     "text": [
      "Processing Scaled_PCA_200: 4it [04:22, 75.06s/it]"
     ]
    },
    {
     "name": "stdout",
     "output_type": "stream",
     "text": [
      "Logistic Regression-Scaled_PCA_200 - Fold 3 - Accuracy: 0.88, Precision: 0.88, Recall: 0.88, F1: 0.88, AUC: 0.95\n"
     ]
    },
    {
     "name": "stderr",
     "output_type": "stream",
     "text": [
      "Processing Scaled_PCA_200: 5it [06:34, 78.98s/it]\n"
     ]
    },
    {
     "name": "stdout",
     "output_type": "stream",
     "text": [
      "Logistic Regression-Scaled_PCA_200 - Fold 4 - Accuracy: 0.88, Precision: 0.87, Recall: 0.88, F1: 0.87, AUC: 0.95\n",
      "\n",
      "Average Performance Across Folds for Scaled_PCA_200:\n",
      "Logistic Regression-Scaled_PCA_200 - Accuracy: 0.87, Precision: 0.86, Recall: 0.87, F1: 0.86, AUC: 0.95\n",
      "\n"
     ]
    },
    {
     "name": "stderr",
     "output_type": "stream",
     "text": [
      "Processing Scaled_Select50Best: 1it [00:07,  7.47s/it]"
     ]
    },
    {
     "name": "stdout",
     "output_type": "stream",
     "text": [
      "Logistic Regression-Scaled_Select50Best - Fold 0 - Accuracy: 0.86, Precision: 0.84, Recall: 0.86, F1: 0.83, AUC: 0.93\n"
     ]
    },
    {
     "name": "stderr",
     "output_type": "stream",
     "text": [
      "d:\\Anaconda\\envs\\mypytorch\\Lib\\site-packages\\sklearn\\linear_model\\_sag.py:349: ConvergenceWarning: The max_iter was reached which means the coef_ did not converge\n",
      "  warnings.warn(\n",
      "Processing Scaled_Select50Best: 2it [00:27, 15.12s/it]"
     ]
    },
    {
     "name": "stdout",
     "output_type": "stream",
     "text": [
      "Logistic Regression-Scaled_Select50Best - Fold 1 - Accuracy: 0.86, Precision: 0.83, Recall: 0.86, F1: 0.84, AUC: 0.93\n"
     ]
    },
    {
     "name": "stderr",
     "output_type": "stream",
     "text": [
      "Processing Scaled_Select50Best: 3it [00:44, 15.87s/it]"
     ]
    },
    {
     "name": "stdout",
     "output_type": "stream",
     "text": [
      "Logistic Regression-Scaled_Select50Best - Fold 2 - Accuracy: 0.86, Precision: 0.84, Recall: 0.86, F1: 0.84, AUC: 0.93\n"
     ]
    },
    {
     "name": "stderr",
     "output_type": "stream",
     "text": [
      "Processing Scaled_Select50Best: 4it [01:02, 16.56s/it]"
     ]
    },
    {
     "name": "stdout",
     "output_type": "stream",
     "text": [
      "Logistic Regression-Scaled_Select50Best - Fold 3 - Accuracy: 0.87, Precision: 0.85, Recall: 0.87, F1: 0.85, AUC: 0.93\n"
     ]
    },
    {
     "name": "stderr",
     "output_type": "stream",
     "text": [
      "Processing Scaled_Select50Best: 5it [01:24, 16.90s/it]\n"
     ]
    },
    {
     "name": "stdout",
     "output_type": "stream",
     "text": [
      "Logistic Regression-Scaled_Select50Best - Fold 4 - Accuracy: 0.87, Precision: 0.84, Recall: 0.87, F1: 0.84, AUC: 0.93\n",
      "\n",
      "Average Performance Across Folds for Scaled_Select50Best:\n",
      "Logistic Regression-Scaled_Select50Best - Accuracy: 0.87, Precision: 0.84, Recall: 0.87, F1: 0.84, AUC: 0.93\n",
      "\n"
     ]
    },
    {
     "name": "stderr",
     "output_type": "stream",
     "text": [
      "Processing Scaled_Select100Best: 1it [00:08,  8.79s/it]"
     ]
    },
    {
     "name": "stdout",
     "output_type": "stream",
     "text": [
      "Logistic Regression-Scaled_Select100Best - Fold 0 - Accuracy: 0.87, Precision: 0.85, Recall: 0.87, F1: 0.85, AUC: 0.94\n"
     ]
    },
    {
     "name": "stderr",
     "output_type": "stream",
     "text": [
      "Processing Scaled_Select100Best: 2it [00:28, 15.48s/it]"
     ]
    },
    {
     "name": "stdout",
     "output_type": "stream",
     "text": [
      "Logistic Regression-Scaled_Select100Best - Fold 1 - Accuracy: 0.87, Precision: 0.85, Recall: 0.87, F1: 0.85, AUC: 0.94\n"
     ]
    },
    {
     "name": "stderr",
     "output_type": "stream",
     "text": [
      "Processing Scaled_Select100Best: 3it [01:07, 25.79s/it]"
     ]
    },
    {
     "name": "stdout",
     "output_type": "stream",
     "text": [
      "Logistic Regression-Scaled_Select100Best - Fold 2 - Accuracy: 0.87, Precision: 0.86, Recall: 0.87, F1: 0.86, AUC: 0.94\n"
     ]
    },
    {
     "name": "stderr",
     "output_type": "stream",
     "text": [
      "d:\\Anaconda\\envs\\mypytorch\\Lib\\site-packages\\sklearn\\linear_model\\_sag.py:349: ConvergenceWarning: The max_iter was reached which means the coef_ did not converge\n",
      "  warnings.warn(\n",
      "Processing Scaled_Select100Best: 4it [02:29, 48.08s/it]"
     ]
    },
    {
     "name": "stdout",
     "output_type": "stream",
     "text": [
      "Logistic Regression-Scaled_Select100Best - Fold 3 - Accuracy: 0.88, Precision: 0.87, Recall: 0.88, F1: 0.87, AUC: 0.94\n"
     ]
    },
    {
     "name": "stderr",
     "output_type": "stream",
     "text": [
      "Processing Scaled_Select100Best: 5it [04:01, 48.26s/it]\n"
     ]
    },
    {
     "name": "stdout",
     "output_type": "stream",
     "text": [
      "Logistic Regression-Scaled_Select100Best - Fold 4 - Accuracy: 0.88, Precision: 0.86, Recall: 0.88, F1: 0.86, AUC: 0.94\n",
      "\n",
      "Average Performance Across Folds for Scaled_Select100Best:\n",
      "Logistic Regression-Scaled_Select100Best - Accuracy: 0.87, Precision: 0.86, Recall: 0.87, F1: 0.86, AUC: 0.94\n",
      "\n"
     ]
    },
    {
     "name": "stderr",
     "output_type": "stream",
     "text": [
      "Processing Scaled_Select200Best: 0it [00:00, ?it/s]d:\\Anaconda\\envs\\mypytorch\\Lib\\site-packages\\sklearn\\linear_model\\_sag.py:349: ConvergenceWarning: The max_iter was reached which means the coef_ did not converge\n",
      "  warnings.warn(\n",
      "Processing Scaled_Select200Best: 1it [00:36, 36.97s/it]"
     ]
    },
    {
     "name": "stdout",
     "output_type": "stream",
     "text": [
      "Logistic Regression-Scaled_Select200Best - Fold 0 - Accuracy: 0.88, Precision: 0.87, Recall: 0.88, F1: 0.87, AUC: 0.95\n"
     ]
    },
    {
     "name": "stderr",
     "output_type": "stream",
     "text": [
      "d:\\Anaconda\\envs\\mypytorch\\Lib\\site-packages\\sklearn\\linear_model\\_sag.py:349: ConvergenceWarning: The max_iter was reached which means the coef_ did not converge\n",
      "  warnings.warn(\n",
      "Processing Scaled_Select200Best: 2it [01:55, 61.55s/it]"
     ]
    },
    {
     "name": "stdout",
     "output_type": "stream",
     "text": [
      "Logistic Regression-Scaled_Select200Best - Fold 1 - Accuracy: 0.87, Precision: 0.86, Recall: 0.87, F1: 0.87, AUC: 0.95\n"
     ]
    },
    {
     "name": "stderr",
     "output_type": "stream",
     "text": [
      "Processing Scaled_Select200Best: 3it [03:44, 83.28s/it]"
     ]
    },
    {
     "name": "stdout",
     "output_type": "stream",
     "text": [
      "Logistic Regression-Scaled_Select200Best - Fold 2 - Accuracy: 0.88, Precision: 0.87, Recall: 0.88, F1: 0.87, AUC: 0.95\n"
     ]
    },
    {
     "name": "stderr",
     "output_type": "stream",
     "text": [
      "Processing Scaled_Select200Best: 4it [05:41, 96.38s/it]"
     ]
    },
    {
     "name": "stdout",
     "output_type": "stream",
     "text": [
      "Logistic Regression-Scaled_Select200Best - Fold 3 - Accuracy: 0.89, Precision: 0.88, Recall: 0.89, F1: 0.88, AUC: 0.95\n"
     ]
    },
    {
     "name": "stderr",
     "output_type": "stream",
     "text": [
      "Processing Scaled_Select200Best: 5it [08:12, 98.48s/it] \n"
     ]
    },
    {
     "name": "stdout",
     "output_type": "stream",
     "text": [
      "Logistic Regression-Scaled_Select200Best - Fold 4 - Accuracy: 0.88, Precision: 0.87, Recall: 0.88, F1: 0.87, AUC: 0.95\n",
      "\n",
      "Average Performance Across Folds for Scaled_Select200Best:\n",
      "Logistic Regression-Scaled_Select200Best - Accuracy: 0.88, Precision: 0.87, Recall: 0.88, F1: 0.87, AUC: 0.95\n",
      "\n"
     ]
    },
    {
     "name": "stderr",
     "output_type": "stream",
     "text": [
      "Processing Scaled_LDA: 1it [00:00,  9.94it/s]"
     ]
    },
    {
     "name": "stdout",
     "output_type": "stream",
     "text": [
      "Logistic Regression-Scaled_LDA - Fold 0 - Accuracy: 0.87, Precision: 0.87, Recall: 0.87, F1: 0.87, AUC: 0.95\n"
     ]
    },
    {
     "name": "stderr",
     "output_type": "stream",
     "text": [
      "Processing Scaled_LDA: 2it [00:00,  9.56it/s]"
     ]
    },
    {
     "name": "stdout",
     "output_type": "stream",
     "text": [
      "Logistic Regression-Scaled_LDA - Fold 1 - Accuracy: 0.87, Precision: 0.86, Recall: 0.87, F1: 0.86, AUC: 0.95\n"
     ]
    },
    {
     "name": "stderr",
     "output_type": "stream",
     "text": [
      "Processing Scaled_LDA: 3it [00:00,  7.69it/s]"
     ]
    },
    {
     "name": "stdout",
     "output_type": "stream",
     "text": [
      "Logistic Regression-Scaled_LDA - Fold 2 - Accuracy: 0.88, Precision: 0.87, Recall: 0.88, F1: 0.87, AUC: 0.95\n"
     ]
    },
    {
     "name": "stderr",
     "output_type": "stream",
     "text": [
      "Processing Scaled_LDA: 4it [00:00,  5.22it/s]"
     ]
    },
    {
     "name": "stdout",
     "output_type": "stream",
     "text": [
      "Logistic Regression-Scaled_LDA - Fold 3 - Accuracy: 0.88, Precision: 0.88, Recall: 0.88, F1: 0.88, AUC: 0.96\n"
     ]
    },
    {
     "name": "stderr",
     "output_type": "stream",
     "text": [
      "Processing Scaled_LDA: 5it [00:00,  5.13it/s]"
     ]
    },
    {
     "name": "stdout",
     "output_type": "stream",
     "text": [
      "Logistic Regression-Scaled_LDA - Fold 4 - Accuracy: 0.88, Precision: 0.87, Recall: 0.88, F1: 0.87, AUC: 0.95\n",
      "\n",
      "Average Performance Across Folds for Scaled_LDA:\n",
      "Logistic Regression-Scaled_LDA - Accuracy: 0.88, Precision: 0.87, Recall: 0.88, F1: 0.87, AUC: 0.95\n",
      "\n",
      "Results and model parameters have been saved to 'logistic_regression_results.json'\n"
     ]
    },
    {
     "name": "stderr",
     "output_type": "stream",
     "text": [
      "\n"
     ]
    }
   ],
   "source": [
    "Logistic_Reg_params = {\n",
    "    'C': [0.01, 0.1, 1.0, 5]\n",
    "}\n",
    "name = 'Logistic Regression'\n",
    "\n",
    "feature_sets = {\n",
    "    'Original': X_orig,\n",
    "    'PCA_50': X_pca_50,\n",
    "    'PCA_100': X_pca_100,\n",
    "    'PCA_200': X_pca_200,\n",
    "    'Select50Best': X_selected_50,\n",
    "    'Select100Best': X_selected_100,\n",
    "    'Select200Best': X_selected_200,\n",
    "    'LDA': X_lda,\n",
    "    'Scaled_Original': StandardScaler().fit_transform(X_orig),\n",
    "    'Scaled_PCA_50': StandardScaler().fit_transform(X_pca_50),\n",
    "    'Scaled_PCA_100': StandardScaler().fit_transform(X_pca_100),\n",
    "    'Scaled_PCA_200': StandardScaler().fit_transform(X_pca_200),\n",
    "    'Scaled_Select50Best': StandardScaler().fit_transform(X_selected_50),\n",
    "    'Scaled_Select100Best': StandardScaler().fit_transform(X_selected_100),\n",
    "    'Scaled_Select200Best': StandardScaler().fit_transform(X_selected_200),\n",
    "    'Scaled_LDA': StandardScaler().fit_transform(X_lda),\n",
    "}\n",
    "\n",
    "# Dictionary to store results for all feature sets\n",
    "results = {\n",
    "    'model_name': name,\n",
    "    'hyperparameters': Logistic_Reg_params,\n",
    "    'feature_sets': {}\n",
    "}\n",
    "\n",
    "for feature_name, X in feature_sets.items():\n",
    "    # Lists to store metrics and model parameters for each fold\n",
    "    fold_metrics = []\n",
    "    \n",
    "    for fold, (train_idx, test_idx) in enumerate(tqdm(tscv.split(X), desc=f'Processing {feature_name}')):\n",
    "        X_train, X_test = X[train_idx], X[test_idx]\n",
    "        y_clf_train, y_clf_test = y[train_idx], y[test_idx]\n",
    "        \n",
    "        # Define and train model with GridSearchCV\n",
    "        model = LogisticRegression(max_iter=1000, solver='saga', n_jobs=20)\n",
    "        grid = GridSearchCV(model, Logistic_Reg_params, cv=2, n_jobs=20)\n",
    "        grid.fit(X_train, y_clf_train)\n",
    "        model = grid.best_estimator_\n",
    "        \n",
    "        # Make predictions and compute metrics\n",
    "        y_pred = model.predict(X_test)\n",
    "        precision, recall, f1, _ = precision_recall_fscore_support(y_clf_test, y_pred, average='weighted', zero_division=1)\n",
    "        auc = roc_auc_score(y_clf_test, model.predict_proba(X_test), multi_class='ovr', average='weighted')\n",
    "        \n",
    "        # Store fold metrics\n",
    "        fold_result = {\n",
    "            'fold': fold,\n",
    "            'accuracy': float(accuracy_score(y_clf_test, y_pred)),\n",
    "            'precision': float(precision),\n",
    "            'recall': float(recall),\n",
    "            'f1': float(f1),\n",
    "            'auc': float(auc)\n",
    "        }\n",
    "        fold_metrics.append(fold_result)\n",
    "                        \n",
    "        # Print per-fold results\n",
    "        print(f'{name}-{feature_name} - Fold {fold} - Accuracy: {fold_result[\"accuracy\"]:.2f}, '\n",
    "              f'Precision: {fold_result[\"precision\"]:.2f}, Recall: {fold_result[\"recall\"]:.2f}, '\n",
    "              f'F1: {fold_result[\"f1\"]:.2f}, AUC: {fold_result[\"auc\"]:.2f}')\n",
    "    \n",
    "    # Compute average metrics across folds\n",
    "    avg_metrics = {\n",
    "        'avg_accuracy': float(np.mean([m['accuracy'] for m in fold_metrics])),\n",
    "        'avg_precision': float(np.mean([m['precision'] for m in fold_metrics])),\n",
    "        'avg_recall': float(np.mean([m['recall'] for m in fold_metrics])),\n",
    "        'avg_f1': float(np.mean([m['f1'] for m in fold_metrics])),\n",
    "        'avg_auc': float(np.mean([m['auc'] for m in fold_metrics]))\n",
    "    }\n",
    "    \n",
    "    # Store results for this feature set\n",
    "    results['feature_sets'][feature_name] = {\n",
    "        'fold_metrics': fold_metrics,\n",
    "        'average_metrics': avg_metrics\n",
    "    }\n",
    "    \n",
    "    # Print average results\n",
    "    print(f'\\nAverage Performance Across Folds for {feature_name}:')\n",
    "    print(f'{name}-{feature_name} - Accuracy: {avg_metrics[\"avg_accuracy\"]:.2f}, '\n",
    "          f'Precision: {avg_metrics[\"avg_precision\"]:.2f}, Recall: {avg_metrics[\"avg_recall\"]:.2f}, '\n",
    "          f'F1: {avg_metrics[\"avg_f1\"]:.2f}, AUC: {avg_metrics[\"avg_auc\"]:.2f}\\n')\n",
    "\n",
    "# Save results to JSON file\n",
    "with open(f'results/clf_aug/{name}_results.json', 'w') as f:\n",
    "    json.dump(results, f, indent=4)\n",
    "\n",
    "print(\"Results and model parameters have been saved to 'logistic_regression_results.json'\")"
   ]
  },
  {
   "cell_type": "markdown",
   "id": "3502fdb2",
   "metadata": {},
   "source": [
    "## Decision Tree"
   ]
  },
  {
   "cell_type": "code",
   "execution_count": null,
   "id": "d0f4350d",
   "metadata": {},
   "outputs": [],
   "source": [
    "Decision_Tree_params = {\n",
    "    'max_depth': [50, 100, 200]\n",
    "    }\n",
    "name = 'Decision Tree'\n",
    "\n",
    "feature_sets = {\n",
    "    'Original': X_orig,\n",
    "    'PCA_50': X_pca_50,\n",
    "    'PCA_100': X_pca_100,\n",
    "    'PCA_200': X_pca_200,\n",
    "    'Select50Best': X_selected_50,\n",
    "    'Select100Best': X_selected_100,\n",
    "    'Select200Best': X_selected_200,\n",
    "    'LDA': X_lda,\n",
    "    'Scaled_Original': StandardScaler().fit_transform(X_orig),\n",
    "    'Scaled_PCA_50': StandardScaler().fit_transform(X_pca_50),\n",
    "    'Scaled_PCA_100': StandardScaler().fit_transform(X_pca_100),\n",
    "    'Scaled_PCA_200': StandardScaler().fit_transform(X_pca_200),\n",
    "    'Scaled_Select50Best': StandardScaler().fit_transform(X_selected_50),\n",
    "    'Scaled_Select100Best': StandardScaler().fit_transform(X_selected_100),\n",
    "    'Scaled_Select200Best': StandardScaler().fit_transform(X_selected_200),\n",
    "    'Scaled_LDA': StandardScaler().fit_transform(X_lda),\n",
    "}\n",
    "\n",
    "# Dictionary to store results for all feature sets\n",
    "results = {\n",
    "    'model_name': name,\n",
    "    'hyperparameters': Decision_Tree_params,\n",
    "    'feature_sets': {}\n",
    "}\n",
    "\n",
    "for feature_name, X in feature_sets.items():\n",
    "    # Lists to store metrics and model parameters for each fold\n",
    "    fold_metrics = []\n",
    "    \n",
    "    for fold, (train_idx, test_idx) in enumerate(tqdm(tscv.split(X), desc=f'Processing {feature_name}')):\n",
    "        X_train, X_test = X[train_idx], X[test_idx]\n",
    "        y_clf_train, y_clf_test = y[train_idx], y[test_idx]\n",
    "        \n",
    "        # Define and train model with GridSearchCV\n",
    "        model = DecisionTreeClassifier()\n",
    "        grid = GridSearchCV(model, Decision_Tree_params, cv=2, n_jobs=20)\n",
    "        grid.fit(X_train, y_clf_train)\n",
    "        model = grid.best_estimator_\n",
    "        \n",
    "        # Make predictions and compute metrics\n",
    "        y_pred = model.predict(X_test)\n",
    "        precision, recall, f1, _ = precision_recall_fscore_support(y_clf_test, y_pred, average='weighted', zero_division=1)\n",
    "        auc = roc_auc_score(y_clf_test, model.predict_proba(X_test), multi_class='ovr', average='weighted')\n",
    "        \n",
    "        # Store fold metrics\n",
    "        fold_result = {\n",
    "            'fold': fold,\n",
    "            'accuracy': float(accuracy_score(y_clf_test, y_pred)),\n",
    "            'precision': float(precision),\n",
    "            'recall': float(recall),\n",
    "            'f1': float(f1),\n",
    "            'auc': float(auc)\n",
    "        }\n",
    "        fold_metrics.append(fold_result)\n",
    "                        \n",
    "        # Print per-fold results\n",
    "        print(f'{name}-{feature_name} - Fold {fold} - Accuracy: {fold_result[\"accuracy\"]:.2f}, '\n",
    "              f'Precision: {fold_result[\"precision\"]:.2f}, Recall: {fold_result[\"recall\"]:.2f}, '\n",
    "              f'F1: {fold_result[\"f1\"]:.2f}, AUC: {fold_result[\"auc\"]:.2f}')\n",
    "    \n",
    "    # Compute average metrics across folds\n",
    "    avg_metrics = {\n",
    "        'avg_accuracy': float(np.mean([m['accuracy'] for m in fold_metrics])),\n",
    "        'avg_precision': float(np.mean([m['precision'] for m in fold_metrics])),\n",
    "        'avg_recall': float(np.mean([m['recall'] for m in fold_metrics])),\n",
    "        'avg_f1': float(np.mean([m['f1'] for m in fold_metrics])),\n",
    "        'avg_auc': float(np.mean([m['auc'] for m in fold_metrics]))\n",
    "    }\n",
    "    \n",
    "    # Store results for this feature set\n",
    "    results['feature_sets'][feature_name] = {\n",
    "        'fold_metrics': fold_metrics,\n",
    "        'average_metrics': avg_metrics\n",
    "    }\n",
    "    \n",
    "    # Print average results\n",
    "    print(f'\\nAverage Performance Across Folds for {feature_name}:')\n",
    "    print(f'{name}-{feature_name} - Accuracy: {avg_metrics[\"avg_accuracy\"]:.2f}, '\n",
    "          f'Precision: {avg_metrics[\"avg_precision\"]:.2f}, Recall: {avg_metrics[\"avg_recall\"]:.2f}, '\n",
    "          f'F1: {avg_metrics[\"avg_f1\"]:.2f}, AUC: {avg_metrics[\"avg_auc\"]:.2f}\\n')\n",
    "\n",
    "# Save results to JSON file\n",
    "with open(f'results/clf_aug/{name}_results.json', 'w') as f:\n",
    "    json.dump(results, f, indent=4)\n",
    "\n",
    "print(\"Results and model parameters have been saved to 'logistic_regression_results.json'\")"
   ]
  },
  {
   "cell_type": "markdown",
   "id": "73866d8a",
   "metadata": {},
   "source": [
    "## SVC"
   ]
  },
  {
   "cell_type": "code",
   "execution_count": null,
   "id": "968e5b6a",
   "metadata": {},
   "outputs": [
    {
     "name": "stderr",
     "output_type": "stream",
     "text": [
      "Processing Scaled_PCA_50: 0it [00:00, ?it/s]"
     ]
    },
    {
     "name": "stdout",
     "output_type": "stream",
     "text": [
      "[LibSVM]"
     ]
    },
    {
     "name": "stderr",
     "output_type": "stream",
     "text": [
      "Processing Scaled_PCA_50: 1it [00:26, 26.01s/it]"
     ]
    },
    {
     "name": "stdout",
     "output_type": "stream",
     "text": [
      "SVC-Scaled_PCA_50 - Fold 0 - Accuracy: 0.76, Precision: 0.79, Recall: 0.76, F1: 0.70, AUC: 0.83\n",
      "[LibSVM]"
     ]
    },
    {
     "name": "stderr",
     "output_type": "stream",
     "text": [
      "Processing Scaled_PCA_50: 2it [01:54, 62.55s/it]"
     ]
    },
    {
     "name": "stdout",
     "output_type": "stream",
     "text": [
      "SVC-Scaled_PCA_50 - Fold 1 - Accuracy: 0.78, Precision: 0.80, Recall: 0.78, F1: 0.74, AUC: 0.85\n",
      "[LibSVM]"
     ]
    },
    {
     "name": "stderr",
     "output_type": "stream",
     "text": [
      "Processing Scaled_PCA_50: 3it [05:36, 135.67s/it]"
     ]
    },
    {
     "name": "stdout",
     "output_type": "stream",
     "text": [
      "SVC-Scaled_PCA_50 - Fold 2 - Accuracy: 0.79, Precision: 0.81, Recall: 0.79, F1: 0.75, AUC: 0.84\n",
      "[LibSVM]"
     ]
    },
    {
     "name": "stderr",
     "output_type": "stream",
     "text": [
      "Processing Scaled_PCA_50: 4it [12:53, 254.35s/it]"
     ]
    },
    {
     "name": "stdout",
     "output_type": "stream",
     "text": [
      "SVC-Scaled_PCA_50 - Fold 3 - Accuracy: 0.80, Precision: 0.81, Recall: 0.80, F1: 0.75, AUC: 0.84\n",
      "[LibSVM]"
     ]
    },
    {
     "name": "stderr",
     "output_type": "stream",
     "text": [
      "Processing Scaled_PCA_50: 5it [25:59, 311.90s/it]\n"
     ]
    },
    {
     "name": "stdout",
     "output_type": "stream",
     "text": [
      "SVC-Scaled_PCA_50 - Fold 4 - Accuracy: 0.78, Precision: 0.80, Recall: 0.78, F1: 0.73, AUC: 0.84\n",
      "\n",
      "Average Performance Across Folds for Scaled_PCA_50:\n",
      "SVC-Scaled_PCA_50 - Accuracy: 0.78, Precision: 0.80, Recall: 0.78, F1: 0.73, AUC: 0.84\n",
      "\n"
     ]
    },
    {
     "name": "stderr",
     "output_type": "stream",
     "text": [
      "Processing Scaled_Select50Best: 0it [00:00, ?it/s]"
     ]
    },
    {
     "name": "stdout",
     "output_type": "stream",
     "text": [
      "[LibSVM]"
     ]
    },
    {
     "name": "stderr",
     "output_type": "stream",
     "text": [
      "Processing Scaled_Select50Best: 1it [00:16, 16.44s/it]"
     ]
    },
    {
     "name": "stdout",
     "output_type": "stream",
     "text": [
      "SVC-Scaled_Select50Best - Fold 0 - Accuracy: 0.85, Precision: 0.87, Recall: 0.85, F1: 0.81, AUC: 0.92\n",
      "[LibSVM]"
     ]
    },
    {
     "name": "stderr",
     "output_type": "stream",
     "text": [
      "Processing Scaled_Select50Best: 2it [01:08, 37.34s/it]"
     ]
    },
    {
     "name": "stdout",
     "output_type": "stream",
     "text": [
      "SVC-Scaled_Select50Best - Fold 1 - Accuracy: 0.85, Precision: 0.86, Recall: 0.85, F1: 0.81, AUC: 0.93\n",
      "[LibSVM]"
     ]
    },
    {
     "name": "stderr",
     "output_type": "stream",
     "text": [
      "Processing Scaled_Select50Best: 3it [03:00, 71.55s/it]"
     ]
    },
    {
     "name": "stdout",
     "output_type": "stream",
     "text": [
      "SVC-Scaled_Select50Best - Fold 2 - Accuracy: 0.84, Precision: 0.85, Recall: 0.84, F1: 0.81, AUC: 0.92\n",
      "[LibSVM]"
     ]
    },
    {
     "name": "stderr",
     "output_type": "stream",
     "text": [
      "Processing Scaled_Select50Best: 4it [06:44, 131.69s/it]"
     ]
    },
    {
     "name": "stdout",
     "output_type": "stream",
     "text": [
      "SVC-Scaled_Select50Best - Fold 3 - Accuracy: 0.87, Precision: 0.88, Recall: 0.87, F1: 0.84, AUC: 0.92\n",
      "[LibSVM]"
     ]
    },
    {
     "name": "stderr",
     "output_type": "stream",
     "text": [
      "Processing Scaled_Select50Best: 5it [13:23, 160.71s/it]\n"
     ]
    },
    {
     "name": "stdout",
     "output_type": "stream",
     "text": [
      "SVC-Scaled_Select50Best - Fold 4 - Accuracy: 0.86, Precision: 0.87, Recall: 0.86, F1: 0.83, AUC: 0.91\n",
      "\n",
      "Average Performance Across Folds for Scaled_Select50Best:\n",
      "SVC-Scaled_Select50Best - Accuracy: 0.86, Precision: 0.86, Recall: 0.86, F1: 0.82, AUC: 0.92\n",
      "\n"
     ]
    },
    {
     "name": "stderr",
     "output_type": "stream",
     "text": [
      "Processing Scaled_LDA: 0it [00:00, ?it/s]"
     ]
    },
    {
     "name": "stdout",
     "output_type": "stream",
     "text": [
      "[LibSVM]"
     ]
    },
    {
     "name": "stderr",
     "output_type": "stream",
     "text": [
      "Processing Scaled_LDA: 1it [00:06,  6.56s/it]"
     ]
    },
    {
     "name": "stdout",
     "output_type": "stream",
     "text": [
      "SVC-Scaled_LDA - Fold 0 - Accuracy: 0.88, Precision: 0.87, Recall: 0.88, F1: 0.86, AUC: 0.93\n",
      "[LibSVM]"
     ]
    },
    {
     "name": "stderr",
     "output_type": "stream",
     "text": [
      "Processing Scaled_LDA: 2it [00:27, 14.79s/it]"
     ]
    },
    {
     "name": "stdout",
     "output_type": "stream",
     "text": [
      "SVC-Scaled_LDA - Fold 1 - Accuracy: 0.87, Precision: 0.86, Recall: 0.87, F1: 0.86, AUC: 0.92\n",
      "[LibSVM]"
     ]
    },
    {
     "name": "stderr",
     "output_type": "stream",
     "text": [
      "Processing Scaled_LDA: 3it [01:09, 27.56s/it]"
     ]
    },
    {
     "name": "stdout",
     "output_type": "stream",
     "text": [
      "SVC-Scaled_LDA - Fold 2 - Accuracy: 0.88, Precision: 0.87, Recall: 0.88, F1: 0.87, AUC: 0.93\n",
      "[LibSVM]"
     ]
    },
    {
     "name": "stderr",
     "output_type": "stream",
     "text": [
      "Processing Scaled_LDA: 4it [02:22, 45.34s/it]"
     ]
    },
    {
     "name": "stdout",
     "output_type": "stream",
     "text": [
      "SVC-Scaled_LDA - Fold 3 - Accuracy: 0.89, Precision: 0.88, Recall: 0.89, F1: 0.88, AUC: 0.91\n",
      "[LibSVM]"
     ]
    },
    {
     "name": "stderr",
     "output_type": "stream",
     "text": [
      "Processing Scaled_LDA: 5it [04:13, 50.64s/it]"
     ]
    },
    {
     "name": "stdout",
     "output_type": "stream",
     "text": [
      "SVC-Scaled_LDA - Fold 4 - Accuracy: 0.88, Precision: 0.87, Recall: 0.88, F1: 0.87, AUC: 0.91\n",
      "\n",
      "Average Performance Across Folds for Scaled_LDA:\n",
      "SVC-Scaled_LDA - Accuracy: 0.88, Precision: 0.87, Recall: 0.88, F1: 0.87, AUC: 0.92\n",
      "\n",
      "Results and model parameters have been saved to 'logistic_regression_results.json'\n"
     ]
    },
    {
     "name": "stderr",
     "output_type": "stream",
     "text": [
      "\n"
     ]
    }
   ],
   "source": [
    "name = 'SVC'\n",
    "\n",
    "feature_sets = {\n",
    "    # 'Original': X_orig,\n",
    "    # 'PCA_50': X_pca_50,\n",
    "    # 'PCA_100': X_pca_100,\n",
    "    # 'PCA_200': X_pca_200,\n",
    "    # 'Select50Best': X_selected_50,\n",
    "    # 'Select100Best': X_selected_100,\n",
    "    # 'Select200Best': X_selected_200,\n",
    "    # 'LDA': X_lda,\n",
    "    # 'Scaled_Original': StandardScaler().fit_transform(X_orig),\n",
    "    'Scaled_PCA_50': StandardScaler().fit_transform(X_pca_50),\n",
    "    # 'Scaled_PCA_100': StandardScaler().fit_transform(X_pca_100),\n",
    "    # 'Scaled_PCA_200': StandardScaler().fit_transform(X_pca_200),\n",
    "    'Scaled_Select50Best': StandardScaler().fit_transform(X_selected_50),\n",
    "    # 'Scaled_Select100Best': StandardScaler().fit_transform(X_selected_100),\n",
    "    # 'Scaled_Select200Best': StandardScaler().fit_transform(X_selected_200),\n",
    "    'Scaled_LDA': StandardScaler().fit_transform(X_lda),\n",
    "}\n",
    "\n",
    "# Dictionary to store results for all feature sets\n",
    "results = {\n",
    "    'model_name': name,\n",
    "    'feature_sets': {}\n",
    "}\n",
    "\n",
    "for feature_name, X in feature_sets.items():\n",
    "    # Lists to store metrics and model parameters for each fold\n",
    "    fold_metrics = []\n",
    "    \n",
    "    for fold, (train_idx, test_idx) in enumerate(tqdm(tscv.split(X), desc=f'Processing {feature_name}')):\n",
    "        X_train, X_test = X[train_idx], X[test_idx]\n",
    "        y_clf_train, y_clf_test = y[train_idx], y[test_idx]\n",
    "        \n",
    "        # Define and train model with GridSearchCV\n",
    "        model = SVC(verbose=1, probability=True, C=0.1, kernel='rbf')\n",
    "        model.fit(X_train, y_clf_train)\n",
    "        \n",
    "        # Make predictions and compute metrics\n",
    "        y_pred = model.predict(X_test)\n",
    "        precision, recall, f1, _ = precision_recall_fscore_support(y_clf_test, y_pred, average='weighted', zero_division=1)\n",
    "        auc = roc_auc_score(y_clf_test, model.predict_proba(X_test), multi_class='ovr', average='weighted')\n",
    "        \n",
    "        # Store fold metrics\n",
    "        fold_result = {\n",
    "            'fold': fold,\n",
    "            'accuracy': float(accuracy_score(y_clf_test, y_pred)),\n",
    "            'precision': float(precision),\n",
    "            'recall': float(recall),\n",
    "            'f1': float(f1),\n",
    "            'auc': float(auc)\n",
    "        }\n",
    "        fold_metrics.append(fold_result)\n",
    "                        \n",
    "        # Print per-fold results\n",
    "        print(f'{name}-{feature_name} - Fold {fold} - Accuracy: {fold_result[\"accuracy\"]:.2f}, '\n",
    "              f'Precision: {fold_result[\"precision\"]:.2f}, Recall: {fold_result[\"recall\"]:.2f}, '\n",
    "              f'F1: {fold_result[\"f1\"]:.2f}, AUC: {fold_result[\"auc\"]:.2f}')\n",
    "    \n",
    "    # Compute average metrics across folds\n",
    "    avg_metrics = {\n",
    "        'avg_accuracy': float(np.mean([m['accuracy'] for m in fold_metrics])),\n",
    "        'avg_precision': float(np.mean([m['precision'] for m in fold_metrics])),\n",
    "        'avg_recall': float(np.mean([m['recall'] for m in fold_metrics])),\n",
    "        'avg_f1': float(np.mean([m['f1'] for m in fold_metrics])),\n",
    "        'avg_auc': float(np.mean([m['auc'] for m in fold_metrics]))\n",
    "    }\n",
    "    \n",
    "    # Store results for this feature set\n",
    "    results['feature_sets'][feature_name] = {\n",
    "        'fold_metrics': fold_metrics,\n",
    "        'average_metrics': avg_metrics\n",
    "    }\n",
    "    \n",
    "    # Print average results\n",
    "    print(f'\\nAverage Performance Across Folds for {feature_name}:')\n",
    "    print(f'{name}-{feature_name} - Accuracy: {avg_metrics[\"avg_accuracy\"]:.2f}, '\n",
    "          f'Precision: {avg_metrics[\"avg_precision\"]:.2f}, Recall: {avg_metrics[\"avg_recall\"]:.2f}, '\n",
    "          f'F1: {avg_metrics[\"avg_f1\"]:.2f}, AUC: {avg_metrics[\"avg_auc\"]:.2f}\\n')\n",
    "\n",
    "# Save results to JSON file\n",
    "with open(f'results/clf_aug/{name}_results.json', 'w') as f:\n",
    "    json.dump(results, f, indent=4)\n",
    "\n",
    "print(\"Results and model parameters have been saved to 'logistic_regression_results.json'\")"
   ]
  },
  {
   "cell_type": "markdown",
   "id": "c0e11fca",
   "metadata": {},
   "source": [
    "# 集成算法"
   ]
  },
  {
   "cell_type": "markdown",
   "id": "584f5886",
   "metadata": {},
   "source": [
    "## Random Forest"
   ]
  },
  {
   "cell_type": "code",
   "execution_count": null,
   "id": "8933717f",
   "metadata": {},
   "outputs": [],
   "source": [
    "rf_params = {\n",
    "    'n_estimators': [50, 100], \n",
    "    'max_depth': [100, 200]\n",
    "    }\n",
    "name = 'Random Forest'\n",
    "\n",
    "feature_sets = {\n",
    "    'Original': X_orig,\n",
    "    'PCA_50': X_pca_50,\n",
    "    # 'PCA_100': X_pca_100,\n",
    "    # 'PCA_200': X_pca_200,\n",
    "    'Select50Best': X_selected_50,\n",
    "    # 'Select100Best': X_selected_100,\n",
    "    # 'Select200Best': X_selected_200,\n",
    "    'LDA': X_lda,\n",
    "    'Scaled_Original': StandardScaler().fit_transform(X_orig),\n",
    "    'Scaled_PCA_50': StandardScaler().fit_transform(X_pca_50),\n",
    "    # 'Scaled_PCA_100': StandardScaler().fit_transform(X_pca_100),\n",
    "    # 'Scaled_PCA_200': StandardScaler().fit_transform(X_pca_200),\n",
    "    'Scaled_Select50Best': StandardScaler().fit_transform(X_selected_50),\n",
    "    # 'Scaled_Select100Best': StandardScaler().fit_transform(X_selected_100),\n",
    "    # 'Scaled_Select200Best': StandardScaler().fit_transform(X_selected_200),\n",
    "    'Scaled_LDA': StandardScaler().fit_transform(X_lda),\n",
    "}\n",
    "\n",
    "# Dictionary to store results for all feature sets\n",
    "results = {\n",
    "    'model_name': name,\n",
    "    'hyperparameters': rf_params,\n",
    "    'feature_sets': {}\n",
    "}\n",
    "\n",
    "for feature_name, X in feature_sets.items():\n",
    "    # Lists to store metrics and model parameters for each fold\n",
    "    fold_metrics = []\n",
    "    \n",
    "    for fold, (train_idx, test_idx) in enumerate(tqdm(tscv.split(X), desc=f'Processing {feature_name}')):\n",
    "        X_train, X_test = X[train_idx], X[test_idx]\n",
    "        y_clf_train, y_clf_test = y[train_idx], y[test_idx]\n",
    "        \n",
    "        # Define and train model with GridSearchCV\n",
    "        model = RandomForestClassifier()\n",
    "        grid = GridSearchCV(model, rf_params, cv=2)\n",
    "        grid.fit(X_train, y_clf_train)\n",
    "        model = grid.best_estimator_\n",
    "        \n",
    "        # Make predictions and compute metrics\n",
    "        y_pred = model.predict(X_test)\n",
    "        precision, recall, f1, _ = precision_recall_fscore_support(y_clf_test, y_pred, average='weighted', zero_division=1)\n",
    "        auc = roc_auc_score(y_clf_test, model.predict_proba(X_test), multi_class='ovr', average='weighted')\n",
    "        \n",
    "        # Store fold metrics\n",
    "        fold_result = {\n",
    "            'fold': fold,\n",
    "            'accuracy': float(accuracy_score(y_clf_test, y_pred)),\n",
    "            'precision': float(precision),\n",
    "            'recall': float(recall),\n",
    "            'f1': float(f1),\n",
    "            'auc': float(auc)\n",
    "        }\n",
    "        fold_metrics.append(fold_result)\n",
    "                        \n",
    "        # Print per-fold results\n",
    "        print(f'{name}-{feature_name} - Fold {fold} - Accuracy: {fold_result[\"accuracy\"]:.2f}, '\n",
    "              f'Precision: {fold_result[\"precision\"]:.2f}, Recall: {fold_result[\"recall\"]:.2f}, '\n",
    "              f'F1: {fold_result[\"f1\"]:.2f}, AUC: {fold_result[\"auc\"]:.2f}')\n",
    "    \n",
    "    # Compute average metrics across folds\n",
    "    avg_metrics = {\n",
    "        'avg_accuracy': float(np.mean([m['accuracy'] for m in fold_metrics])),\n",
    "        'avg_precision': float(np.mean([m['precision'] for m in fold_metrics])),\n",
    "        'avg_recall': float(np.mean([m['recall'] for m in fold_metrics])),\n",
    "        'avg_f1': float(np.mean([m['f1'] for m in fold_metrics])),\n",
    "        'avg_auc': float(np.mean([m['auc'] for m in fold_metrics]))\n",
    "    }\n",
    "    \n",
    "    # Store results for this feature set\n",
    "    results['feature_sets'][feature_name] = {\n",
    "        'fold_metrics': fold_metrics,\n",
    "        'average_metrics': avg_metrics\n",
    "    }\n",
    "    \n",
    "    # Print average results\n",
    "    print(f'\\nAverage Performance Across Folds for {feature_name}:')\n",
    "    print(f'{name}-{feature_name} - Accuracy: {avg_metrics[\"avg_accuracy\"]:.2f}, '\n",
    "          f'Precision: {avg_metrics[\"avg_precision\"]:.2f}, Recall: {avg_metrics[\"avg_recall\"]:.2f}, '\n",
    "          f'F1: {avg_metrics[\"avg_f1\"]:.2f}, AUC: {avg_metrics[\"avg_auc\"]:.2f}\\n')\n",
    "\n",
    "# Save results to JSON file\n",
    "with open(f'results/clf_aug/{name}_results.json', 'w') as f:\n",
    "    json.dump(results, f, indent=4)\n",
    "\n",
    "print(\"Results and model parameters have been saved to 'logistic_regression_results.json'\")"
   ]
  },
  {
   "cell_type": "markdown",
   "id": "693e40f7",
   "metadata": {},
   "source": [
    "## Bagging Method"
   ]
  },
  {
   "cell_type": "code",
   "execution_count": null,
   "id": "63387b75",
   "metadata": {},
   "outputs": [],
   "source": [
    "name = 'Bagging'\n",
    "\n",
    "feature_sets = {\n",
    "    'Original': X_orig,\n",
    "    'PCA_50': X_pca_50,\n",
    "    'PCA_100': X_pca_100,\n",
    "    'PCA_200': X_pca_200,\n",
    "    'Select50Best': X_selected_50,\n",
    "    'Select100Best': X_selected_100,\n",
    "    'Select200Best': X_selected_200,\n",
    "    'LDA': X_lda,\n",
    "    'Scaled_Original': StandardScaler().fit_transform(X_orig),\n",
    "    'Scaled_PCA_50': StandardScaler().fit_transform(X_pca_50),\n",
    "    'Scaled_PCA_100': StandardScaler().fit_transform(X_pca_100),\n",
    "    'Scaled_PCA_200': StandardScaler().fit_transform(X_pca_200),\n",
    "    'Scaled_Select50Best': StandardScaler().fit_transform(X_selected_50),\n",
    "    'Scaled_Select100Best': StandardScaler().fit_transform(X_selected_100),\n",
    "    'Scaled_Select200Best': StandardScaler().fit_transform(X_selected_200),\n",
    "    'Scaled_LDA': StandardScaler().fit_transform(X_lda),\n",
    "}\n",
    "\n",
    "# Dictionary to store results for all feature sets\n",
    "results = {\n",
    "    'model_name': name,\n",
    "    'feature_sets': {}\n",
    "}\n",
    "\n",
    "for feature_name, X in feature_sets.items():\n",
    "    # Lists to store metrics and model parameters for each fold\n",
    "    fold_metrics = []\n",
    "    \n",
    "    for fold, (train_idx, test_idx) in enumerate(tqdm(tscv.split(X), desc=f'Processing {feature_name}')):\n",
    "        X_train, X_test = X[train_idx], X[test_idx]\n",
    "        y_clf_train, y_clf_test = y[train_idx], y[test_idx]\n",
    "        \n",
    "        # Define and train model with GridSearchCV\n",
    "        model = BaggingClassifier(estimator=LogisticRegression(C=0.1), n_estimators=10, random_state=42, n_jobs=20)\n",
    "        model.fit(X_train, y_clf_train)\n",
    "        \n",
    "        # Make predictions and compute metrics\n",
    "        y_pred = model.predict(X_test)\n",
    "        precision, recall, f1, _ = precision_recall_fscore_support(y_clf_test, y_pred, average='weighted', zero_division=1)\n",
    "        auc = roc_auc_score(y_clf_test, model.predict_proba(X_test), multi_class='ovr', average='weighted')\n",
    "        \n",
    "        # Store fold metrics\n",
    "        fold_result = {\n",
    "            'fold': fold,\n",
    "            'accuracy': float(accuracy_score(y_clf_test, y_pred)),\n",
    "            'precision': float(precision),\n",
    "            'recall': float(recall),\n",
    "            'f1': float(f1),\n",
    "            'auc': float(auc)\n",
    "        }\n",
    "        fold_metrics.append(fold_result)\n",
    "                        \n",
    "        # Print per-fold results\n",
    "        print(f'{name}-{feature_name} - Fold {fold} - Accuracy: {fold_result[\"accuracy\"]:.2f}, '\n",
    "              f'Precision: {fold_result[\"precision\"]:.2f}, Recall: {fold_result[\"recall\"]:.2f}, '\n",
    "              f'F1: {fold_result[\"f1\"]:.2f}, AUC: {fold_result[\"auc\"]:.2f}')\n",
    "    \n",
    "    # Compute average metrics across folds\n",
    "    avg_metrics = {\n",
    "        'avg_accuracy': float(np.mean([m['accuracy'] for m in fold_metrics])),\n",
    "        'avg_precision': float(np.mean([m['precision'] for m in fold_metrics])),\n",
    "        'avg_recall': float(np.mean([m['recall'] for m in fold_metrics])),\n",
    "        'avg_f1': float(np.mean([m['f1'] for m in fold_metrics])),\n",
    "        'avg_auc': float(np.mean([m['auc'] for m in fold_metrics]))\n",
    "    }\n",
    "    \n",
    "    # Store results for this feature set\n",
    "    results['feature_sets'][feature_name] = {\n",
    "        'fold_metrics': fold_metrics,\n",
    "        'average_metrics': avg_metrics\n",
    "    }\n",
    "    \n",
    "    # Print average results\n",
    "    print(f'\\nAverage Performance Across Folds for {feature_name}:')\n",
    "    print(f'{name}-{feature_name} - Accuracy: {avg_metrics[\"avg_accuracy\"]:.2f}, '\n",
    "          f'Precision: {avg_metrics[\"avg_precision\"]:.2f}, Recall: {avg_metrics[\"avg_recall\"]:.2f}, '\n",
    "          f'F1: {avg_metrics[\"avg_f1\"]:.2f}, AUC: {avg_metrics[\"avg_auc\"]:.2f}\\n')\n",
    "\n",
    "# Save results to JSON file\n",
    "with open(f'results/clf_aug/{name}_results.json', 'w') as f:\n",
    "    json.dump(results, f, indent=4)\n",
    "\n",
    "print(\"Results and model parameters have been saved to 'logistic_regression_results.json'\")"
   ]
  },
  {
   "cell_type": "markdown",
   "id": "cfdb9e6b",
   "metadata": {},
   "source": [
    "## Voting"
   ]
  },
  {
   "cell_type": "code",
   "execution_count": 11,
   "id": "15625b1f",
   "metadata": {},
   "outputs": [
    {
     "name": "stderr",
     "output_type": "stream",
     "text": [
      "Processing Scaled_PCA_50: 1it [00:37, 37.01s/it]"
     ]
    },
    {
     "name": "stdout",
     "output_type": "stream",
     "text": [
      "Voting-Scaled_PCA_50 - Fold 0 - Accuracy: 0.72, Precision: 0.66, Recall: 0.72, F1: 0.68, AUC: 0.68\n"
     ]
    },
    {
     "name": "stderr",
     "output_type": "stream",
     "text": [
      "Processing Scaled_PCA_50: 2it [03:03, 101.19s/it]"
     ]
    },
    {
     "name": "stdout",
     "output_type": "stream",
     "text": [
      "Voting-Scaled_PCA_50 - Fold 1 - Accuracy: 0.73, Precision: 0.67, Recall: 0.73, F1: 0.69, AUC: 0.71\n"
     ]
    },
    {
     "name": "stderr",
     "output_type": "stream",
     "text": [
      "Processing Scaled_PCA_50: 3it [09:25, 229.71s/it]"
     ]
    },
    {
     "name": "stdout",
     "output_type": "stream",
     "text": [
      "Voting-Scaled_PCA_50 - Fold 2 - Accuracy: 0.73, Precision: 0.67, Recall: 0.73, F1: 0.69, AUC: 0.70\n"
     ]
    },
    {
     "name": "stderr",
     "output_type": "stream",
     "text": [
      "Processing Scaled_PCA_50: 4it [22:38, 451.83s/it]"
     ]
    },
    {
     "name": "stdout",
     "output_type": "stream",
     "text": [
      "Voting-Scaled_PCA_50 - Fold 3 - Accuracy: 0.73, Precision: 0.67, Recall: 0.73, F1: 0.69, AUC: 0.72\n"
     ]
    },
    {
     "name": "stderr",
     "output_type": "stream",
     "text": [
      "Processing Scaled_PCA_50: 5it [49:28, 593.72s/it]\n"
     ]
    },
    {
     "name": "stdout",
     "output_type": "stream",
     "text": [
      "Voting-Scaled_PCA_50 - Fold 4 - Accuracy: 0.90, Precision: 0.86, Recall: 0.90, F1: 0.88, AUC: 0.69\n",
      "\n",
      "Average Performance Across Folds for Scaled_PCA_50:\n",
      "Voting-Scaled_PCA_50 - Accuracy: 0.76, Precision: 0.71, Recall: 0.76, F1: 0.72, AUC: 0.70\n",
      "\n"
     ]
    },
    {
     "name": "stderr",
     "output_type": "stream",
     "text": [
      "Processing Scaled_Select50Best: 1it [00:32, 32.01s/it]"
     ]
    },
    {
     "name": "stdout",
     "output_type": "stream",
     "text": [
      "Voting-Scaled_Select50Best - Fold 0 - Accuracy: 0.70, Precision: 0.65, Recall: 0.70, F1: 0.67, AUC: 0.71\n"
     ]
    },
    {
     "name": "stderr",
     "output_type": "stream",
     "text": [
      "Processing Scaled_Select50Best: 2it [02:23, 78.64s/it]"
     ]
    },
    {
     "name": "stdout",
     "output_type": "stream",
     "text": [
      "Voting-Scaled_Select50Best - Fold 1 - Accuracy: 0.74, Precision: 0.69, Recall: 0.74, F1: 0.70, AUC: 0.74\n"
     ]
    },
    {
     "name": "stderr",
     "output_type": "stream",
     "text": [
      "Processing Scaled_Select50Best: 3it [07:24, 180.17s/it]"
     ]
    },
    {
     "name": "stdout",
     "output_type": "stream",
     "text": [
      "Voting-Scaled_Select50Best - Fold 2 - Accuracy: 0.74, Precision: 0.69, Recall: 0.74, F1: 0.70, AUC: 0.71\n"
     ]
    },
    {
     "name": "stderr",
     "output_type": "stream",
     "text": [
      "Processing Scaled_Select50Best: 4it [18:32, 372.79s/it]"
     ]
    },
    {
     "name": "stdout",
     "output_type": "stream",
     "text": [
      "Voting-Scaled_Select50Best - Fold 3 - Accuracy: 0.74, Precision: 0.67, Recall: 0.74, F1: 0.69, AUC: 0.72\n"
     ]
    },
    {
     "name": "stderr",
     "output_type": "stream",
     "text": [
      "Processing Scaled_Select50Best: 5it [39:02, 468.57s/it]\n"
     ]
    },
    {
     "name": "stdout",
     "output_type": "stream",
     "text": [
      "Voting-Scaled_Select50Best - Fold 4 - Accuracy: 0.90, Precision: 0.86, Recall: 0.90, F1: 0.88, AUC: 0.66\n",
      "\n",
      "Average Performance Across Folds for Scaled_Select50Best:\n",
      "Voting-Scaled_Select50Best - Accuracy: 0.76, Precision: 0.71, Recall: 0.76, F1: 0.73, AUC: 0.71\n",
      "\n"
     ]
    },
    {
     "name": "stderr",
     "output_type": "stream",
     "text": [
      "Processing Scaled_LDA: 1it [00:23, 23.10s/it]"
     ]
    },
    {
     "name": "stdout",
     "output_type": "stream",
     "text": [
      "Voting-Scaled_LDA - Fold 0 - Accuracy: 0.72, Precision: 0.65, Recall: 0.72, F1: 0.67, AUC: 0.67\n"
     ]
    },
    {
     "name": "stderr",
     "output_type": "stream",
     "text": [
      "Processing Scaled_LDA: 2it [01:38, 53.62s/it]"
     ]
    },
    {
     "name": "stdout",
     "output_type": "stream",
     "text": [
      "Voting-Scaled_LDA - Fold 1 - Accuracy: 0.72, Precision: 0.66, Recall: 0.72, F1: 0.67, AUC: 0.68\n"
     ]
    },
    {
     "name": "stderr",
     "output_type": "stream",
     "text": [
      "Processing Scaled_LDA: 3it [04:32, 108.67s/it]"
     ]
    },
    {
     "name": "stdout",
     "output_type": "stream",
     "text": [
      "Voting-Scaled_LDA - Fold 2 - Accuracy: 0.73, Precision: 0.66, Recall: 0.73, F1: 0.68, AUC: 0.67\n"
     ]
    },
    {
     "name": "stderr",
     "output_type": "stream",
     "text": [
      "Processing Scaled_LDA: 4it [09:25, 181.38s/it]"
     ]
    },
    {
     "name": "stdout",
     "output_type": "stream",
     "text": [
      "Voting-Scaled_LDA - Fold 3 - Accuracy: 0.72, Precision: 0.66, Recall: 0.72, F1: 0.68, AUC: 0.68\n"
     ]
    },
    {
     "name": "stderr",
     "output_type": "stream",
     "text": [
      "Processing Scaled_LDA: 5it [17:54, 214.94s/it]"
     ]
    },
    {
     "name": "stdout",
     "output_type": "stream",
     "text": [
      "Voting-Scaled_LDA - Fold 4 - Accuracy: 0.90, Precision: 0.86, Recall: 0.90, F1: 0.87, AUC: 0.75\n",
      "\n",
      "Average Performance Across Folds for Scaled_LDA:\n",
      "Voting-Scaled_LDA - Accuracy: 0.76, Precision: 0.70, Recall: 0.76, F1: 0.71, AUC: 0.69\n",
      "\n",
      "Results and model parameters have been saved to 'logistic_regression_results.json'\n"
     ]
    },
    {
     "name": "stderr",
     "output_type": "stream",
     "text": [
      "\n"
     ]
    }
   ],
   "source": [
    "name = 'Voting'\n",
    "\n",
    "estimators = [\n",
    "    ('dt', DecisionTreeClassifier(max_depth=200)),\n",
    "    ('svc', SVC(probability=True)), \n",
    "    ('LogisticRegression', LogisticRegression(C=0.5))\n",
    "]\n",
    "\n",
    "feature_sets = {\n",
    "    # 'Original': X_orig,\n",
    "    # 'PCA_50': X_pca_50,\n",
    "    # 'PCA_100': X_pca_100,\n",
    "    # 'PCA_200': X_pca_200,\n",
    "    # 'Select50Best': X_selected_50,\n",
    "    # 'Select100Best': X_selected_100,\n",
    "    # 'Select200Best': X_selected_200,\n",
    "    # 'LDA': X_lda,\n",
    "    # 'Scaled_Original': StandardScaler().fit_transform(X_orig),\n",
    "    'Scaled_PCA_50': StandardScaler().fit_transform(X_pca_50),\n",
    "    # 'Scaled_PCA_100': StandardScaler().fit_transform(X_pca_100),\n",
    "    # 'Scaled_PCA_200': StandardScaler().fit_transform(X_pca_200),\n",
    "    'Scaled_Select50Best': StandardScaler().fit_transform(X_selected_50),\n",
    "    # 'Scaled_Select100Best': StandardScaler().fit_transform(X_selected_100),\n",
    "    # 'Scaled_Select200Best': StandardScaler().fit_transform(X_selected_200),\n",
    "    'Scaled_LDA': StandardScaler().fit_transform(X_lda),\n",
    "}\n",
    "\n",
    "# Dictionary to store results for all feature sets\n",
    "results = {\n",
    "    'model_name': name,\n",
    "    'feature_sets': {}\n",
    "}\n",
    "\n",
    "for feature_name, X in feature_sets.items():\n",
    "    # Lists to store metrics and model parameters for each fold\n",
    "    fold_metrics = []\n",
    "    \n",
    "    for fold, (train_idx, test_idx) in enumerate(tqdm(tscv.split(X), desc=f'Processing {feature_name}')):\n",
    "        X_train, X_test = X[train_idx], X[test_idx]\n",
    "        y_clf_train, y_clf_test = y[train_idx], y[test_idx]\n",
    "        \n",
    "        # Define and train model with GridSearchCV\n",
    "        model = VotingClassifier(estimators=estimators, voting='soft', n_jobs=-1)  # 'hard' for majority voting\n",
    "        model.fit(X_train, y_clf_train)\n",
    "        \n",
    "        # Make predictions and compute metrics\n",
    "        y_pred = model.predict(X_test)\n",
    "        precision, recall, f1, _ = precision_recall_fscore_support(y_clf_test, y_pred, average='weighted', zero_division=1)\n",
    "        auc = roc_auc_score(y_clf_test, model.predict_proba(X_test), multi_class='ovr', average='weighted')\n",
    "        \n",
    "        # Store fold metrics\n",
    "        fold_result = {\n",
    "            'fold': fold,\n",
    "            'accuracy': float(accuracy_score(y_clf_test, y_pred)),\n",
    "            'precision': float(precision),\n",
    "            'recall': float(recall),\n",
    "            'f1': float(f1),\n",
    "            'auc': float(auc)\n",
    "        }\n",
    "        fold_metrics.append(fold_result)\n",
    "                        \n",
    "        # Print per-fold results\n",
    "        print(f'{name}-{feature_name} - Fold {fold} - Accuracy: {fold_result[\"accuracy\"]:.2f}, '\n",
    "              f'Precision: {fold_result[\"precision\"]:.2f}, Recall: {fold_result[\"recall\"]:.2f}, '\n",
    "              f'F1: {fold_result[\"f1\"]:.2f}, AUC: {fold_result[\"auc\"]:.2f}')\n",
    "    \n",
    "    # Compute average metrics across folds\n",
    "    avg_metrics = {\n",
    "        'avg_accuracy': float(np.mean([m['accuracy'] for m in fold_metrics])),\n",
    "        'avg_precision': float(np.mean([m['precision'] for m in fold_metrics])),\n",
    "        'avg_recall': float(np.mean([m['recall'] for m in fold_metrics])),\n",
    "        'avg_f1': float(np.mean([m['f1'] for m in fold_metrics])),\n",
    "        'avg_auc': float(np.mean([m['auc'] for m in fold_metrics]))\n",
    "    }\n",
    "    \n",
    "    # Store results for this feature set\n",
    "    results['feature_sets'][feature_name] = {\n",
    "        'fold_metrics': fold_metrics,\n",
    "        'average_metrics': avg_metrics\n",
    "    }\n",
    "    \n",
    "    # Print average results\n",
    "    print(f'\\nAverage Performance Across Folds for {feature_name}:')\n",
    "    print(f'{name}-{feature_name} - Accuracy: {avg_metrics[\"avg_accuracy\"]:.2f}, '\n",
    "          f'Precision: {avg_metrics[\"avg_precision\"]:.2f}, Recall: {avg_metrics[\"avg_recall\"]:.2f}, '\n",
    "          f'F1: {avg_metrics[\"avg_f1\"]:.2f}, AUC: {avg_metrics[\"avg_auc\"]:.2f}\\n')\n",
    "\n",
    "# Save results to JSON file\n",
    "with open(f'results/clf_aug/{name}_results.json', 'w') as f:\n",
    "    json.dump(results, f, indent=4)\n",
    "\n",
    "print(\"Results and model parameters have been saved to 'logistic_regression_results.json'\")"
   ]
  }
 ],
 "metadata": {
  "kernelspec": {
   "display_name": "mypytorch",
   "language": "python",
   "name": "python3"
  },
  "language_info": {
   "codemirror_mode": {
    "name": "ipython",
    "version": 3
   },
   "file_extension": ".py",
   "mimetype": "text/x-python",
   "name": "python",
   "nbconvert_exporter": "python",
   "pygments_lexer": "ipython3",
   "version": "3.12.0"
  }
 },
 "nbformat": 4,
 "nbformat_minor": 5
}
