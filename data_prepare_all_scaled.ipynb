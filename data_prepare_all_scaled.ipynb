{
 "cells": [
  {
   "cell_type": "code",
   "execution_count": 1,
   "id": "1b05220f",
   "metadata": {},
   "outputs": [],
   "source": [
    "import pandas as pd\n",
    "import numpy as np\n",
    "from sklearn.model_selection import TimeSeriesSplit, GridSearchCV\n",
    "from sklearn.preprocessing import StandardScaler, OneHotEncoder, OrdinalEncoder\n",
    "from sklearn.impute import SimpleImputer\n",
    "\n",
    "years = ['2015', '2016', '2017', '2018', '2019']\n",
    "data_frames = []\n",
    "for year in years:\n",
    "    df = pd.read_excel(f'TripDataset/Dataset/{year}.xlsx')  # Replace with actual file names\n",
    "    df['Year'] = year  # Add year column for temporal tracking\n",
    "    data_frames.append(df)\n",
    "\n",
    "data = pd.concat(data_frames, ignore_index=True)\n",
    "data = data.sort_values(by='Year')\n"
   ]
  },
  {
   "cell_type": "code",
   "execution_count": 2,
   "id": "4fc52826",
   "metadata": {},
   "outputs": [],
   "source": [
    "# Define columns\n",
    "numerical_cols = ['Age', 'Number of nights in CITY', 'Number of visits to CITY', 'Tour price', 'Airfare', \n",
    "                  'Total expenditures', 'Accommodation expenses', 'Food and drink expenses', \n",
    "                  'Transportation expenses in CITY', 'Entertainment expenses', 'Shopping expenses', \n",
    "                  'Other expenditures', 'Purpose of visit to CITY']\n",
    "numerical_cols_without_target = ['Age', 'Number of visits to CITY', 'Tour price', 'Airfare', \n",
    "                  'Total expenditures', 'Accommodation expenses', 'Food and drink expenses', \n",
    "                  'Transportation expenses in CITY', 'Entertainment expenses', 'Shopping expenses', \n",
    "                  'Other expenditures']\n",
    "target_cols = ['Purpose of visit to CITY', 'Number of nights in CITY']\n",
    "true_categorical_cols = ['Nationality', 'Country of residence', 'Gender', 'Immigration airport', \n",
    "                        'Travel type', 'Having mileage or not', 'Intention to revisit CITY', \n",
    "                        'Most desired place', 'Most satisfied place']\n",
    "potentially_binary_cols = ['Companion_1', 'Companion_2', 'Companion_3', 'Companion_4', 'Companion_5', 'Companion_6', \n",
    "                          'Accommodation facilities 1', 'Accommodation facilities 2', 'Accommodation facilities 3', \n",
    "                          'Accommodation facilities 4', 'Accommodation facilities 5', 'Accommodation facilities 6', \n",
    "                          'Accommodation facilities 7', 'Accommodation facilities 8', \n",
    "                          'Transportation 01', 'Transportation 02', 'Transportation 03', 'Transportation 04', \n",
    "                          'Transportation 05', 'Transportation 06', 'Transportation 07', 'Transportation 08', \n",
    "                          'Transportation 09', 'Transportation 10', 'Transportation 11', 'Transportation 12', \n",
    "                          'Transportation 13', 'Transportation 14', 'Transportation 15', 'Transportation 16', \n",
    "                          'Transportation 17', 'Activity 01', 'Activity 02', 'Activity 03', 'Activity 04', 'Activity 05', \n",
    "                          'Activity 06', 'Activity 07', 'Activity 08', 'Activity 09', 'Activity 10', 'Activity 11', \n",
    "                          'Activity 12', 'Activity 13', 'Activity 14', 'Activity 15', 'Activity 16', 'Activity 17', \n",
    "                          'Activity 18', 'Activity 19', 'Activity 20', 'Activity 21', 'Activity 22', 'Destination 01', \n",
    "                          'Destination 02', 'Destination 03', 'Destination 04', 'Destination 05', 'Destination 06', \n",
    "                          'Destination 07', 'Destination 08', 'Destination 09', 'Destination 10', 'Destination 11', \n",
    "                          'Destination 12', 'Destination 13', 'Destination 14', 'Destination 15', 'Destination 16', \n",
    "                          'Destination 17', 'Destination 18', 'Destination 19', 'Destination 20', 'Destination 21', \n",
    "                          'Destination 22', 'Destination 23', 'Destination 24', 'Activity_Destination 01', \n",
    "                          'Activity_Destination 02', 'Activity_Destination 03', 'Activity_Destination 04', \n",
    "                          'Activity_Destination 05', 'Activity_Destination 06', 'Activity_Destination 07', \n",
    "                          'Activity_Destination 08', 'Activity_Destination 09', 'Activity_Destination 10', \n",
    "                          'Activity_Destination 11', 'Activity_Destination 12', 'Activity_Destination 13', \n",
    "                          'Activity_Destination 14', 'Activity_Destination 15', 'Activity_Destination 16', \n",
    "                          'Activity_Destination 17', 'Activity_Destination 18', 'Activity_Destination 19', \n",
    "                          'Activity_Destination 20', 'Activity_Destination 21', 'Activity_Destination 22', \n",
    "                          'Activity_Destination 23', 'Activity_Destination 24', 'Trigger 01', 'Trigger 02', \n",
    "                          'Trigger 03', 'Trigger 04', 'Trigger 05', 'Trigger 06', 'Trigger 07', 'Trigger 08', \n",
    "                          'Trigger 09', 'Trigger 10', 'Trigger 11', 'Trigger 12', 'Trigger 13', 'Trigger 14', \n",
    "                          'Trigger 15', 'Trigger 16', 'Trigger 17', 'Trigger 18', 'Trigger 19', 'Trigger 20', \n",
    "                          'Trigger 21', 'Trigger 22', 'Trigger 23', 'Trigger 24', 'Trigger 25', 'Trigger 26', \n",
    "                          'Trigger 27', 'Trigger 28', 'Trigger 29', 'Attractions 01', 'Attractions 02', \n",
    "                          'Attractions 03', 'Attractions 04', 'Attractions 05', 'Attractions 06', 'Attractions 07', \n",
    "                          'Attractions 08', 'Attractions 09', 'Attractions 10', 'Attractions 11', 'Attractions 12', \n",
    "                          'Attractions 13', 'Attractions 14', 'Attractions 15', 'Attractions 16', 'Attractions 17', \n",
    "                          'Attractions 18', 'Attractions 19', 'Attractions 20', 'Attractions 21', 'Attractions 22', \n",
    "                          'Attractions 23', 'Attractions 24', 'Attractions 25', 'Attractions 26', 'Attractions 27']\n",
    "ordinal_cols = ['Satisfaction level', 'Intention to revisit CITY', 'Satisfaction level by item 01', \n",
    "                'Satisfaction level by item 02', 'Satisfaction level by item 03', 'Satisfaction level by item 04', \n",
    "                'Satisfaction level by item 05', 'Satisfaction level by item 06', 'Satisfaction level by item 07', \n",
    "                'Satisfaction level by item 08', 'Satisfaction level by item 09', 'Satisfaction level by item 10', \n",
    "                'Satisfaction level by item 11']\n"
   ]
  },
  {
   "cell_type": "code",
   "execution_count": 3,
   "id": "6a8e543a",
   "metadata": {},
   "outputs": [],
   "source": [
    "# Imputing missing values\n",
    "num_imputer = SimpleImputer(strategy='median')\n",
    "cat_imputer = SimpleImputer(strategy='most_frequent')\n",
    "data[numerical_cols_without_target] = num_imputer.fit_transform(data[numerical_cols_without_target])\n",
    "data[true_categorical_cols] = cat_imputer.fit_transform(data[true_categorical_cols])\n",
    "data[potentially_binary_cols] = cat_imputer.fit_transform(data[potentially_binary_cols])\n",
    "\n",
    "data[true_categorical_cols] = data[true_categorical_cols].astype(str)\n"
   ]
  },
  {
   "cell_type": "code",
   "execution_count": 7,
   "id": "28b498f4",
   "metadata": {},
   "outputs": [],
   "source": [
    "# 初始化 OneHotEncoder\n",
    "ohe = OneHotEncoder(handle_unknown='ignore')\n",
    "\n",
    "# 对 true_categorical_cols 进行独热编码\n",
    "cat_encoded = pd.DataFrame(\n",
    "    ohe.fit_transform(data[true_categorical_cols]).toarray(),  # 转为密集矩阵\n",
    "    columns=ohe.get_feature_names_out(true_categorical_cols)\n",
    ")\n",
    "\n",
    "ord_encoder = OrdinalEncoder()\n",
    "ord_encoded = pd.DataFrame(ord_encoder.fit_transform(data[ordinal_cols]), \n",
    "                           columns=ordinal_cols)\n",
    "binary_encoded = data[potentially_binary_cols]\n",
    "scaler = StandardScaler()\n",
    "num_scaled = pd.DataFrame(scaler.fit_transform(data[numerical_cols_without_target]), \n",
    "                          columns=numerical_cols_without_target)\n",
    "data_processed = pd.concat([num_scaled, cat_encoded, binary_encoded, ord_encoded, data['Number of nights in CITY'], data['Purpose of visit to CITY']], axis=1)"
   ]
  },
  {
   "cell_type": "code",
   "execution_count": 10,
   "id": "6d22c1f2",
   "metadata": {},
   "outputs": [],
   "source": [
    "data['Number of nights in CITY'] = data['Number of nights in CITY'].replace(0, 1e-1)\n",
    "data_processed['Expenditure_per_night'] = data['Total expenditures'] / data['Number of nights in CITY']\n",
    "\n",
    "data_processed = data_processed.fillna(data_processed.mean())  # 填充数值型特征的缺失值\n",
    "\n",
    "data_processed.to_pickle(\"data/data_processed.pkl\")"
   ]
  }
 ],
 "metadata": {
  "kernelspec": {
   "display_name": "mypytorch",
   "language": "python",
   "name": "python3"
  },
  "language_info": {
   "codemirror_mode": {
    "name": "ipython",
    "version": 3
   },
   "file_extension": ".py",
   "mimetype": "text/x-python",
   "name": "python",
   "nbconvert_exporter": "python",
   "pygments_lexer": "ipython3",
   "version": "3.12.0"
  }
 },
 "nbformat": 4,
 "nbformat_minor": 5
}
