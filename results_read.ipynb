{
 "cells": [
  {
   "cell_type": "code",
   "execution_count": 10,
   "id": "311d24f8",
   "metadata": {},
   "outputs": [
    {
     "name": "stdout",
     "output_type": "stream",
     "text": [
      "\\begin{table}[H]\n",
      "\\centering\n",
      "\\begin{tabular}{|l|c|c|c|c|c|}\n",
      "\\hline\n",
      "Feature Set & Avg Accuracy & Avg Precision & Avg Recall & Avg F1 & Avg AUC \\\\ \\hline\n",
      "Scaled\\_PCA\\_50 & 0.7788 & 0.7414 & 0.7788 & 0.7526 & 0.8366 \\\\ \\hline\n",
      "Scaled\\_Select50Best & 0.8692 & 0.8484 & 0.8692 & 0.8520 & 0.9348 \\\\ \\hline\n",
      "Scaled\\_LDA & 0.8802 & 0.8700 & 0.8802 & 0.8710 & 0.9492 \\\\ \\hline\n",
      "\\end{tabular}\n",
      "\\caption{Performance Metrics for Different Feature Sets Using Method 3}\n",
      "\\end{table}\n"
     ]
    },
    {
     "name": "stderr",
     "output_type": "stream",
     "text": [
      "<>:25: SyntaxWarning: invalid escape sequence '\\_'\n",
      "<>:25: SyntaxWarning: invalid escape sequence '\\_'\n",
      "C:\\Users\\LENOVO\\AppData\\Local\\Temp\\ipykernel_39556\\1590589571.py:25: SyntaxWarning: invalid escape sequence '\\_'\n",
      "  feature_set = feature_set.replace(\"_\", \"\\_\")\n"
     ]
    }
   ],
   "source": [
    "import json\n",
    "\n",
    "# names = ['Logistic Regression', 'Decision Tree', 'SVC', \n",
    "#          'Random Forest', 'Bagging', 'Voting']\n",
    "\n",
    "names = ['Voting']\n",
    "\n",
    "for name in names:\n",
    "    # 读取 JSON 文件\n",
    "    with open(f'results/clf/{name}_results.json', 'r') as file:\n",
    "        data = json.load(file)\n",
    "\n",
    "    # 初始化 LaTeX 表格代码\n",
    "    latex_lines = [\n",
    "        \"\\\\begin{table}[H]\",\n",
    "        \"\\\\centering\",\n",
    "        \"\\\\begin{tabular}{|l|c|c|c|c|c|}\",\n",
    "        \"\\\\hline\",\n",
    "        \"Feature Set & Avg Accuracy & Avg Precision & Avg Recall & Avg F1 & Avg AUC \\\\\\\\ \\\\hline\"\n",
    "    ]\n",
    "\n",
    "    # 遍历每个 feature set 提取平均指标\n",
    "    for feature_set, metrics in data['feature_sets'].items():\n",
    "\n",
    "        feature_set = feature_set.replace(\"_\", \"\\_\")\n",
    "        avg_metrics = metrics['average_metrics']\n",
    "        latex_lines.append(\n",
    "            f\"{feature_set} & \"\n",
    "            f\"{avg_metrics['avg_accuracy']:.4f} & \"\n",
    "            f\"{avg_metrics['avg_precision']:.4f} & \"\n",
    "            f\"{avg_metrics['avg_recall']:.4f} & \"\n",
    "            f\"{avg_metrics['avg_f1']:.4f} & \"\n",
    "            f\"{avg_metrics['avg_auc']:.4f} \\\\\\\\ \\\\hline\"\n",
    "        )\n",
    "\n",
    "    # 结束表格代码\n",
    "    latex_lines.extend([\n",
    "        \"\\\\end{tabular}\",\n",
    "        \"\\\\caption{Performance Metrics for Different Feature Sets Using Method 3}\",\n",
    "        \"\\\\end{table}\"\n",
    "    ])\n",
    "\n",
    "    # 打印或者保存 LaTeX 表格\n",
    "    latex_table = \"\\n\".join(latex_lines)\n",
    "    print(latex_table)\n",
    "\n",
    "    # 可选：将 LaTeX 表格保存到文件\n",
    "    # with open(f'report/results_tex/clf/{name}_results.tex', 'w') as file:\n",
    "    #     file.write(latex_table)\n"
   ]
  },
  {
   "cell_type": "code",
   "execution_count": 37,
   "id": "42cda26a",
   "metadata": {},
   "outputs": [
    {
     "name": "stdout",
     "output_type": "stream",
     "text": [
      "\\begin{table}[H]\n",
      "    \\centering\n",
      "    \\begin{tabular}{|l|c|c|c|}\n",
      "    \\hline\n",
      "Feature Set & Average MSE & Average MAE & Average $R^2$ \\\\ \\hline\n",
      "Original & 131.0038 & 2.4522 & 0.6683 \\\\ \\hline\n",
      "PCA\\_50 & 3783.6233 & 8.9052 & -9.6057 \\\\ \\hline\n",
      "PCA\\_100 & 6843.6974 & 11.1096 & -18.1779 \\\\ \\hline\n",
      "PCA\\_200 & 10434940.2234 & 232.7574 & -29701.3730 \\\\ \\hline\n",
      "Select50Best & 270.1644 & 4.7666 & 0.3298 \\\\ \\hline\n",
      "Select100Best & 146.4436 & 2.3476 & 0.6143 \\\\ \\hline\n",
      "Select200Best & 151.2644 & 2.3820 & 0.6113 \\\\ \\hline\n",
      "Scaled\\_Original & 138.2931 & 2.0193 & 0.6487 \\\\ \\hline\n",
      "Scaled\\_PCA\\_50 & 3851.7878 & 8.9585 & -9.7831 \\\\ \\hline\n",
      "Scaled\\_PCA\\_100 & 6408.3655 & 10.8841 & -16.9452 \\\\ \\hline\n",
      "Scaled\\_PCA\\_200 & 10148598.7674 & 229.6800 & -28886.3104 \\\\ \\hline\n",
      "Scaled\\_Select50Best & 264.5342 & 4.7371 & 0.3448 \\\\ \\hline\n",
      "Scaled\\_Select100Best & 389623177768174920663040.0000 & 50866087507.8649 & -1107967788479734349824.0000 \\\\ \\hline\n",
      "Scaled\\_Select200Best & 154.8072 & 2.1026 & 0.6057 \\\\ \\hline\n",
      "    \\end{tabular}\n",
      "    \\caption{Regression Metrics for Different Feature Sets Using Method 3}\n",
      "\\end{table}\n"
     ]
    }
   ],
   "source": [
    "# names = ['Linear Regression', 'Polynomial Regression', \n",
    "#          'Ridge', \"Lasso\", 'Decision Tree', 'SVR', \n",
    "#           'Random Forest', 'Bagging', 'Stack']\n",
    "\n",
    "names = ['Stack']\n",
    "for name in names:\n",
    "    # 读取 JSON 文件\n",
    "    with open(f'results/reg/{name}_results.json', 'r') as file:\n",
    "        data = json.load(file)\n",
    "\n",
    "    # 构造 LaTeX 表格\n",
    "    header = \"\\\\begin{table}[H]\\n    \\\\centering\\n    \\\\begin{tabular}{|l|c|c|c|}\\n    \\\\hline\\n\"\n",
    "    columns = \"Feature Set & Average MSE & Average MAE & Average $R^2$ \\\\\\\\ \\\\hline\\n\"\n",
    "    rows = \"\"\n",
    "\n",
    "    for feature_set, metrics in data[\"feature_sets\"].items():\n",
    "        \n",
    "        feature_set = feature_set.replace(\"_\", \"\\_\")\n",
    "        simple_avg = metrics[\"simple_averages\"]\n",
    "\n",
    "        # 简单平均\n",
    "        rows += f\"{feature_set} & {simple_avg['mse']:.4f} & {simple_avg['mae']:.4f} & {simple_avg['r2']:.4f} \\\\\\\\ \\\\hline\\n\"\n",
    "\n",
    "    footer = \"    \\\\end{tabular}\\n    \\\\caption{Regression Metrics for Different Feature Sets Using Method 3}\\n\\\\end{table}\"\n",
    "\n",
    "    latex_table = header + columns + rows + footer\n",
    "\n",
    "    # 打印或者保存 LaTeX 表格\n",
    "    print(latex_table)\n"
   ]
  }
 ],
 "metadata": {
  "kernelspec": {
   "display_name": "mypytorch",
   "language": "python",
   "name": "python3"
  },
  "language_info": {
   "codemirror_mode": {
    "name": "ipython",
    "version": 3
   },
   "file_extension": ".py",
   "mimetype": "text/x-python",
   "name": "python",
   "nbconvert_exporter": "python",
   "pygments_lexer": "ipython3",
   "version": "3.12.0"
  }
 },
 "nbformat": 4,
 "nbformat_minor": 5
}
